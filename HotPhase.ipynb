{
 "cells": [
  {
   "cell_type": "code",
   "execution_count": 545,
   "metadata": {},
   "outputs": [],
   "source": [
    "import numpy as np\n",
    "import glob\n",
    "from scipy import integrate, interpolate\n",
    "import matplotlib\n",
    "matplotlib.rcParams['xtick.direction'] = 'in'\n",
    "matplotlib.rcParams['ytick.direction'] = 'in'\n",
    "matplotlib.rcParams['xtick.top'] = True\n",
    "matplotlib.rcParams['ytick.right'] = True\n",
    "matplotlib.rcParams['xtick.minor.visible'] = True\n",
    "matplotlib.rcParams['ytick.minor.visible'] = True\n",
    "matplotlib.rcParams['lines.dash_capstyle'] = \"round\"\n",
    "matplotlib.rcParams['lines.solid_capstyle'] = \"round\"\n",
    "matplotlib.rcParams['legend.handletextpad'] = 0.4\n",
    "\n",
    "import matplotlib.pyplot as plt\n",
    "plt.rc('text', usetex=True)\n",
    "plt.rc('text.latex', preamble=r'\\usepackage{cmbright}  \\usepackage[T1]{fontenc}')\n",
    "\n",
    "matplotlib.rcParams['axes.linewidth'] = 0.6\n",
    "matplotlib.rcParams['ytick.major.width'] = 0.6\n",
    "matplotlib.rcParams['xtick.major.width'] = 0.6\n",
    "matplotlib.rcParams['ytick.minor.width'] = 0.45\n",
    "matplotlib.rcParams['xtick.minor.width'] = 0.45\n",
    "matplotlib.rcParams['ytick.major.size'] = 2.75\n",
    "matplotlib.rcParams['xtick.major.size'] = 2.75\n",
    "matplotlib.rcParams['ytick.minor.size'] = 1.75\n",
    "matplotlib.rcParams['xtick.minor.size'] = 1.75\n",
    "matplotlib.rcParams['legend.handlelength'] = 1.5\n",
    "\n",
    "import matplotlib.colors as colors\n",
    "from matplotlib import cm\n",
    "from matplotlib.colors import ListedColormap\n",
    "import palettable\n",
    "from scipy.integrate import ode\n",
    "from scipy.integrate import solve_ivp\n",
    "from scipy.interpolate import interp1d\n",
    "from scipy import optimize\n",
    "import cmasher as cmr\n",
    "import matplotlib.font_manager\n",
    "from numpy import random\n",
    "from scipy.stats import lognorm\n",
    "from scipy.stats import norm\n",
    "import scipy.optimize as opt\n",
    "\n",
    "from scipy.sparse import diags\n",
    "from scipy.sparse.linalg import spsolve\n",
    "from ipynb.fs.full.utils import Matrix3D\n",
    "import time\n",
    "\n",
    "###########################\n",
    "gamma   = 5/3.\n",
    "kb      = 1.3806488e-16\n",
    "mp      = 1.67373522381e-24\n",
    "km      = 1e5\n",
    "s       = 1\n",
    "yr      = 3.1536e7\n",
    "Myr     = 3.1536e13\n",
    "Gyr     = 3.1536e16\n",
    "pc      = 3.086e18\n",
    "kpc     = 1.0e3 * pc\n",
    "Mpc     = 1.0e6 * pc\n",
    "H0      = 67.74*km/s/Mpc\n",
    "Om      = 0.3075\n",
    "OL      = 1 - Om\n",
    "G       = 6.673e-8\n",
    "Msun    = 2.e33\n",
    "fb      = 0.158\n",
    "keV     = 1.60218e-9\n",
    "###########################\n",
    "\n",
    "\n",
    "###########################\n",
    "mu          = 0.62\n",
    "metallicity = 10**-0.5\n",
    "muH         = 1/0.75\n",
    "###########################\n",
    "\n",
    "\n",
    "\n",
    "Z0 = 1/3.\n",
    "P0 = 1e3\n",
    "T0 = 1e6\n",
    "n0 = P0/T0\n",
    "redshift=0\n",
    "chi0 = 100.\n",
    "Mach0 = 0.0\n",
    "Turbulent_Scale0 = 1*kpc\n",
    "f_turb0 = 0.1\n",
    "f_mix = 0.1\n",
    "v_hot0 = 0.\n",
    "f_cool = 0.3\n",
    "v = 1e2*km/s\n",
    "f_ad = 0.1\n",
    "\n",
    "P = 1e5*kb\n",
    "rho = 1e-2*mu*mp\n",
    "v = 1000*km/s\n"
   ]
  },
  {
   "cell_type": "code",
   "execution_count": 546,
   "metadata": {},
   "outputs": [],
   "source": [
    "# hot phase\n",
    "\n",
    "def CC85_r1(gamma, r, R, Mach):\n",
    "    fac1 = (3 * gamma + 1 / Mach**2) / (1 + 3 * gamma)\n",
    "    fac2 = (gamma - 1 + 2 / Mach**2) / (1 + gamma)\n",
    "    exp1 = -(3 * gamma +1) / (5 * gamma + 1)\n",
    "    exp2 = (gamma + 1) / (10 * gamma + 2)\n",
    "    rfac = r / R\n",
    "    return fac1**exp1 * fac2**exp2 - rfac\n",
    "\n",
    "def CC85_r2(gamma, r, R, Mach):\n",
    "    fac1 = (gamma - 1 + 2 / Mach**2) / (1 + gamma)\n",
    "    exp1 = (gamma + 1) / (2 * gamma - 2)\n",
    "    fac2 = Mach\n",
    "    exp2 = 2 / (gamma - 1)\n",
    "    rfac = (r / R)**2\n",
    "    return fac1**exp1 * fac2**exp2 - rfac\n",
    "\n",
    "\n",
    "gamma = 5/3\n",
    "R = 300 * pc\n",
    "r_start = 1 * pc\n",
    "r_end = 15000 * pc\n",
    "nbs_r = 2000\n",
    "E_load = 1\n",
    "M_load = 10**1.5\n",
    "V_R = 4/3*np.pi*R**3\n",
    "Mdot_hot = M_load * Msun / yr\n",
    "q = Mdot_hot / V_R\n",
    "Edot_hot = E_load * 1e43\n",
    "Q = Edot_hot / V_R\n",
    "u_R = (Q / q / (1/2 + 1/(gamma-1)))**0.5\n",
    "rho_R = q * R / 3 / u_R\n",
    "K1 = rho_R * u_R * R**2\n",
    "K2 = K1 * (0.5 + 1 / (gamma - 1))*u_R**2\n",
    "\n",
    "def hot_wind(gamma, r, R, Q, K1, K2, q):\n",
    "    if r <= R:\n",
    "        mach = opt.brentq(lambda Mach: CC85_r1(gamma, r, R, Mach), 0.001, 1)\n",
    "        u = (Q / q * (1/2 + 1/(gamma-1)/mach**2)**-1)**0.5\n",
    "        rho = q * r /3 /u\n",
    "        P = u**2 * rho / gamma / mach**2\n",
    "    else:\n",
    "        mach = opt.brentq(lambda Mach: CC85_r2(gamma, r, R, Mach), 1, 100)\n",
    "        u = (K2/K1 * (1/2 + 1/(gamma-1)/mach**2)**-1)**0.5\n",
    "        rho = K1 / u / r**2\n",
    "        P = u**2 * rho / gamma / mach**2\n",
    "    return u, rho, P \n",
    "\n",
    "r = np.arange(r_start, r_end, (r_end-r_start)/nbs_r)\n",
    "wind = [hot_wind(gamma, i, R, Q,K1,K2, q) for i in r] \n",
    "#plt.plot (np.log(r/R), np.array(u_w)/km)\n",
    "u_wind, rho_wind, P_wind = list(zip(*wind))\n",
    "\n",
    "getwindu = interp1d(r,u_wind,'cubic')\n",
    "getwindrho = interp1d(r,rho_wind,'cubic')\n",
    "getwindP = interp1d(r, P_wind,'cubic')"
   ]
  },
  {
   "cell_type": "code",
   "execution_count": 547,
   "metadata": {},
   "outputs": [
    {
     "data": {
      "text/plain": [
       "Text(0.5, 1.0, 'Analytical Solutions for Chevalier and Clegg')"
      ]
     },
     "execution_count": 547,
     "metadata": {},
     "output_type": "execute_result"
    },
    {
     "data": {
      "image/png": "[encoded data removed]",
      "text/plain": [
       "<Figure size 432x432 with 1 Axes>"
      ]
     },
     "metadata": {
      "needs_background": "light"
     },
     "output_type": "display_data"
    }
   ],
   "source": [
    "u_star = np.array(u_wind)/(Mdot_hot**-0.5 * Edot_hot**0.5)\n",
    "rho_star = np.array(rho_wind)/(Mdot_hot**1.5 * Edot_hot**-0.5 * R**-2)\n",
    "P_star = np.array(P_wind)/(Mdot_hot**0.5 * Edot_hot**0.5 * R**-2)\n",
    "plt.figure(figsize=(6,6))\n",
    "plt.plot(np.log(r/R),np.log(u_star), label='Nomalized velocity')\n",
    "plt.plot(np.log(r/R),np.log(rho_star), label = 'Normalized density')\n",
    "plt.plot(np.log(r/R),np.log(P_star), label = 'Normalized pressure')\n",
    "plt.legend()\n",
    "plt.title('Analytical Solutions for Chevalier and Clegg')"
   ]
  },
  {
   "cell_type": "code",
   "execution_count": 548,
   "metadata": {},
   "outputs": [],
   "source": [
    "f_turb0 = 0.1\n",
    "Mdot_chi_power = 0.5\n",
    "\n",
    "def dot_cloud(M_cloud,v_cloud, P, v, rho):\n",
    "    # cloud_radius(M_cloud,v_cloud):\n",
    "    T_cloud   = 1e4\n",
    "    rho_cloud   = P * (mu*mp) / (kb*T_cloud) # cloud in pressure equilibrium\n",
    "    chi         = rho_cloud / rho\n",
    "    r_cloud     = (M_cloud / (rho_cloud))**(1/3.) \n",
    "    # layer_turbulent_velocity(M_cloud,v_cloud):\n",
    "    v_turb      = f_turb0*(v-v_cloud)\n",
    "    if v_turb <= 0: v_turb = 0.001  # avoid v_turb -ve for initial run\n",
    "    # layer_cooling_time(M_cloud,v_cloud):\n",
    "#     t_cool_layer = 0.3*Myr ## just use this for now\n",
    "    # cloud_ksi(M_cloud,v_cloud):\n",
    "    T_wind  = P/kb * (mu*mp/rho)\n",
    "    T_mix   = np.sqrt(T_wind*T_cloud)\n",
    "    ksi     = r_cloud / (v_turb * t_cool_layer)\n",
    "    # Mdot_cloud_grow(M_cloud,v_cloud):\n",
    "    Mdot_grow   =  3 * M_cloud * v_turb / (r_cloud * chi**Mdot_chi_power) * np.where( ksi < 1, ksi**0.5, ksi**0.25 )\n",
    "    Mdot_loss   = -3 * M_cloud * v_turb / (r_cloud * chi**Mdot_chi_power) \n",
    "    force_from_transfer = (v-v_cloud)*Mdot_grow\n",
    "    return (Mdot_grow + Mdot_loss)/v_cloud, (force_from_transfer/M_cloud)/v_cloud"
   ]
  },
  {
   "cell_type": "code",
   "execution_count": 549,
   "metadata": {},
   "outputs": [],
   "source": [
    "def gen_bins(bmin, bmax, logScale, nbs_bins, unit):\n",
    "    bin_size = (bmax-bmin)/nbs_bins\n",
    "    bins = np.arange(bmin,bmax,bin_size)\n",
    "    if logScale==True: \n",
    "        bins = 10**bins * unit\n",
    "    else:\n",
    "        bins = bins * unit\n",
    "    return bins\n",
    "\n",
    "def gen_uniform_dist(nbsample, xmin, xmax, unit):\n",
    "    sample = random.uniform(xmin,xmax, nbsample)\n",
    "    return sample * unit\n",
    "\n",
    "def gen_lognormal_dist(nbsample, logmean, logstd, unit):\n",
    "    sample=random.normal(logmean, logstd, nbsample)\n",
    "    return 10 ** sample * unit\n",
    "\n",
    "def gen_normal_dist(nbsample, mean, std, unit):\n",
    "    sample=random.normal(mean, std, nbsample)\n",
    "    return sample * unit\n",
    "\n",
    "def gen_powerlaw(nbsample, xmin, xmax, power, unit):\n",
    "    r = np.random.random(size=nbsample)\n",
    "    ag, bg = xmin**power, xmax**power\n",
    "    return (ag + (bg - ag)*r) ** (1./power) * unit\n",
    "\n",
    "def gen_cloud(v_samples, m_samples, r_samples):\n",
    "    sample=[]\n",
    "    nb_vsam = len(v_samples)\n",
    "    nb_msam = len(m_samples)\n",
    "    nb_rsam = len(r_samples)\n",
    "    if nb_vsam != nb_msam:\n",
    "        if nb_vsam != nb_rsam:\n",
    "            print(\"number of samples of velocity and Mass does not match\")\n",
    "    for i in range(nb_vsam):\n",
    "        sample.append((i, v_samples[i], m_samples[i], r_samples[i]))\n",
    "    return sample\n",
    "\n",
    "def binnings(clouds, v_bins, M_bins):\n",
    "    nbs_vbin= len(v_bins)\n",
    "    nbs_Mbin= len(M_bins)\n",
    "    f=np.reshape(np.zeros(nbs_vbin * nbs_Mbin),(nbs_vbin,nbs_Mbin))\n",
    "    v_min = v_bins[0]\n",
    "    v_max = v_bins[nbs_vbin-1]\n",
    "    M_min = M_bins[0]\n",
    "    M_max = M_bins[nbs_Mbin-1]\n",
    "    for item in clouds:\n",
    "        if (item[1]>=v_min) and (item[1]<=v_max) and (item[2]>=M_min) and (item[2]<=M_max):\n",
    "            v_idx = np.max(np.where(v_bins <= item[1]))\n",
    "            M_idx = np.max(np.where(M_bins <= item[2]))\n",
    "            f[v_idx][M_idx]+=1\n",
    "    return f\n",
    "\n",
    "def binning2D(data, bins):\n",
    "    (data1, data2) = (data[0], data[1])\n",
    "    (bin1, bin2) = (bins[0], bins[1])\n",
    "    nbs_bin1= len(bin1)\n",
    "    nbs_bin2= len(bin2)\n",
    "    f=np.reshape(np.zeros(nbs_bin1 * nbs_bin2),(nbs_bin1,nbs_bin2))\n",
    "    d1_min = bin1[0]\n",
    "    d1_max = bin1[nbs_bin1-1]\n",
    "    d2_min = bin2[0]\n",
    "    d2_max = bin2[nbs_bin2-1]\n",
    "    for idx in range(len(data1)):\n",
    "        if (data1[idx]>=d1_min) and (data1[idx]<=d1_max) and (data2[idx]>=d2_min) and (data2[idx]<=d2_max):\n",
    "            d1_idx = np.max(np.where(bin1 <= data1[idx]))\n",
    "            d2_idx = np.max(np.where(bin2 <= data2[idx]))\n",
    "            f[d1_idx][d2_idx]+=1\n",
    "    return f\n",
    "\n",
    "def binning1D(data, bins):\n",
    "    nbs_bins= len(bins)\n",
    "    f=np.zeros(nbs_bins)\n",
    "    d_min = bins[0]\n",
    "    d_max = bins[nbs_bins-1]\n",
    "    for idx in range(len(data)):\n",
    "        if (data[idx]>=d_min) and (data[idx]<=d_max):\n",
    "            d_idx = np.max(np.where(bins <= data[idx]))\n",
    "            f[d_idx]+=1\n",
    "    return f\n",
    "\n",
    "\n",
    "\n",
    "def plot_density2D(f, data1, data2, labels, downscale):\n",
    "    (bin1, unit1, log1) = data1\n",
    "    (bin2, unit2, log2) = data2\n",
    "    plt.figure(figsize=(6,6))\n",
    "    plt.pcolormesh(bin1/unit1,bin2/unit2, np.abs(f)/downscale,cmap=palettable.scientific.sequential.Oslo_20_r.mpl_colormap, norm=colors.SymLogNorm(vmin=1e-5,vmax=1e-3,linthresh=1e-6))\n",
    "    if log1 == True:    \n",
    "        plt.xscale('log')\n",
    "    if log2 == True:\n",
    "        plt.yscale('log')\n",
    "    plt.xlabel(labels[1])\n",
    "    plt.ylabel(labels[2])\n",
    "    plt.title(labels[0])\n",
    "    \n",
    "    \n",
    "def plot_density1D(f_init, f_final, log_y, data, labels, downscale):\n",
    "    (bins, unit, log_x) = data\n",
    "    plt.figure(figsize=(6,6))\n",
    "    if (log_x == True):    \n",
    "        bins_ = np.log10(bins / unit)\n",
    "    else:\n",
    "        bins_ = bins / unit\n",
    "    if (log_y == True):\n",
    "        fi = np.log10(f_init/np.sum(f_init))\n",
    "        ff = np.log10(f_final/np.sum(f_final))\n",
    "    else:\n",
    "        fi = f_init/np.sum(f_init)\n",
    "        ff = f_final/np.sum(f_final)       \n",
    "    plt.plot(bins_, fi, label = 'Initial')\n",
    "    plt.plot(bins_, ff, label = 'Final')\n",
    "    plt.xlabel(labels[1])\n",
    "    plt.ylabel(labels[2])\n",
    "    plt.title(labels[0])\n",
    "    plt.legend()\n",
    "\n",
    "# not exactly lognormal but can generate approximate lognormal\n",
    "# with its log10(x) having specificed mean and sigma in log space\n",
    "def pseudo_lognormal(bmin, bmax, nbs_bins, mu, sigma, unit):\n",
    "    bin_size = (bmax-bmin)/(nbs_bins+2)\n",
    "    logbins = np.arange(bmin,bmax,bin_size)\n",
    "    bins = 10**logbins * unit\n",
    "    mu = mu + np.log10(unit)\n",
    "    z=(np.log10(bins[1:-1])-mu)/sigma\n",
    "    f = 1 / (sigma * np.sqrt(2*np.pi)) * np.exp(-0.5*z**2)\n",
    "    _delta = bins[1:]-bins[:-1]\n",
    "    delta_b = _delta[:-1]\n",
    "    delta_f = _delta[1:]\n",
    "    return f, bins[1:-1], delta_b, delta_f\n",
    "\n",
    "\n",
    "def normal(bmin, bmax, nbs_bins, mu, sigma, unit):\n",
    "    bin_size = (bmax-bmin)/(nbs_bins+2)\n",
    "    bins = np.arange(bmin,bmax,bin_size) *unit\n",
    "    z = (bins[1:-1]/unit - mu)/(sigma)\n",
    "    f=1/(sigma * unit * np.sqrt(2 * np.pi)) * np.exp(-0.5 * z**2) \n",
    "    _delta = bins[1:]-bins[:-1]\n",
    "    delta_b = _delta[:-1]\n",
    "    delta_f = _delta[1:]\n",
    "    return f, bins[1:-1], delta_b, delta_f"
   ]
  },
  {
   "cell_type": "code",
   "execution_count": 550,
   "metadata": {},
   "outputs": [
    {
     "data": {
      "text/plain": [
       "<matplotlib.collections.QuadMesh at 0x138d4fa50>"
      ]
     },
     "execution_count": 550,
     "metadata": {},
     "output_type": "execute_result"
    },
    {
     "data": {
      "image/png": "[encoded data removed]",
      "text/plain": [
       "<Figure size 432x432 with 1 Axes>"
      ]
     },
     "metadata": {
      "needs_background": "light"
     },
     "output_type": "display_data"
    }
   ],
   "source": [
    "ncells_v=150\n",
    "ncells_M=150\n",
    "ncells_r=150\n",
    "v_max = 1200\n",
    "v_min = 0\n",
    "M_max = 6\n",
    "M_min = -2\n",
    "\n",
    "\n",
    "(mf,mbin,dm_b, dm_f)=pseudo_lognormal(M_min, M_max, ncells_M, 3, 1, Msun)\n",
    "(vf,vbin,dv_b, dv_f)=normal(v_min, v_max, ncells_v, 100,30,km)\n",
    "phase = np.outer(vf,mf)\n",
    "plt.figure(figsize=(6,6))\n",
    "plt.pcolormesh(np.log10(mbin/Msun),vbin/km,phase, cmap=palettable.scientific.sequential.Oslo_20_r.mpl_colormap)"
   ]
  },
  {
   "cell_type": "code",
   "execution_count": null,
   "metadata": {},
   "outputs": [],
   "source": []
  },
  {
   "cell_type": "code",
   "execution_count": 551,
   "metadata": {},
   "outputs": [
    {
     "name": "stderr",
     "output_type": "stream",
     "text": [
      "/Library/Frameworks/Python.framework/Versions/3.7/lib/python3.7/site-packages/scipy/sparse/linalg/dsolve/linsolve.py:145: SparseEfficiencyWarning: spsolve requires A be CSC or CSR matrix format\n",
      "  SparseEfficiencyWarning)\n"
     ]
    },
    {
     "name": "stdout",
     "output_type": "stream",
     "text": [
      "0\n",
      "5\n",
      "10\n",
      "15\n",
      "20\n",
      "25\n",
      "30\n",
      "35\n",
      "40\n"
     ]
    },
    {
     "data": {
      "image/png": "[encoded data removed]",
      "text/plain": [
       "<Figure size 432x432 with 1 Axes>"
      ]
     },
     "metadata": {
      "needs_background": "light"
     },
     "output_type": "display_data"
    }
   ],
   "source": [
    "dr = 100 * pc\n",
    "steps= 41\n",
    "\n",
    "M0 = 1e2 * Msun\n",
    "v0 = 100 * km\n",
    "r_cloud     = (M0 / (rho*100))**(1/3.)\n",
    "v_turb = f_turb0*(v-v0)\n",
    "t_cool_layer = r_cloud / v_turb / 10**-0.5\n",
    "#t_cool_layer = 0.2  * Myr\n",
    "\n",
    "indices = [(i,j) for j in range(ncells_v) for i in range(ncells_M)]\n",
    "f0=[mf[item[0]]*vf[item[1]] for item in indices]\n",
    "\n",
    "plt.figure(figsize=(6,6))\n",
    "\n",
    "fn=f0\n",
    "for i_time in range(steps):\n",
    "\n",
    "    r = dr * (i_time+1)\n",
    "    # upwind scheme\n",
    "    P_wind= P\n",
    "    v_wind=v\n",
    "    rho_wind=rho\n",
    "#    P_wind = getwindP(r)\n",
    "#    v_wind = getwindu(r)\n",
    "#    rho_wind = getwindrho(r)\n",
    "#    print(P_wind)\n",
    "#    print(v_wind)\n",
    "    dot = [(m_cl,v_cl) + dot_cloud(mbin[m_cl],vbin[v_cl], P_wind, v_wind, rho_wind) for m_cl,v_cl in indices]\n",
    "    M_pos_band = np.array([np.where(mdot>0, 0, mdot/dm_f[m_cl]) for (m_cl,_, mdot,_) in dot])*dr\n",
    "    M_neg_band = np.array([np.where(mdot>0, mdot/dm_b[m_cl], 0) for (m_cl,_, mdot,_) in dot])*dr\n",
    "    v_pos_band = np.array([np.where(vdot>0, 0, vdot/dv_f[v_cl]) for (_,v_cl,_,vdot) in dot])*dr\n",
    "    v_neg_band = np.array([np.where(vdot>0, vdot/dv_b[v_cl], 0) for (_,v_cl,_,vdot) in dot])*dr\n",
    "\n",
    "    # zero out location to avoid wrapping around \n",
    "    M_neg_band = np.array([np.where(i%ncells_M==0, 0, M_neg_band[i]) for i in range(len(M_neg_band))]) \n",
    "    M_pos_band = np.concatenate([[0],M_pos_band])\n",
    "    M_pos_band = np.array([np.where(i%ncells_M==0, 0, M_pos_band[i]) for i in range(len(M_pos_band))]) \n",
    "    M_pos_band = M_pos_band[1:]\n",
    "    \n",
    "    diagonal = 1 + v_neg_band - v_pos_band - M_pos_band + M_neg_band    \n",
    "    v_pos_band = v_pos_band[:-ncells_M]\n",
    "    M_pos_band = M_pos_band[:-1]\n",
    "    M_neg_band = -M_neg_band[1:]\n",
    "    v_neg_band = -v_neg_band[ncells_M:]\n",
    "    A = diags([v_pos_band, M_pos_band, diagonal, M_neg_band, v_neg_band],[ncells_M, 1, 0,-1,-ncells_M])     \n",
    "    \n",
    "    fn = spsolve(A,fn)\n",
    "    \n",
    "    if i_time % 5 == 0:\n",
    "#    if True:\n",
    "        plt.pcolormesh(np.log10(mbin/Msun),vbin/km,np.reshape(fn,(ncells_v,ncells_M)), cmap=palettable.scientific.sequential.Oslo_20_r.mpl_colormap)\n",
    "        plt.xlabel(r'$\\log M_{\\rm cloud}\\, [M_\\odot]$')\n",
    "        plt.ylabel(r'$v_{\\rm cloud}\\, [{\\rm km/s}]$')\n",
    "        plt.xlim((M_min,M_max))\n",
    "        plt.ylim((v_min,v_max))\n",
    "        print(i_time)"
   ]
  },
  {
   "cell_type": "code",
   "execution_count": 552,
   "metadata": {},
   "outputs": [],
   "source": [
    "#np.reshape(indices,(ncells_M,ncells_v))\n",
    "x,y = list(zip(*indices))"
   ]
  },
  {
   "cell_type": "code",
   "execution_count": 553,
   "metadata": {},
   "outputs": [
    {
     "data": {
      "text/plain": [
       "(0, 1200)"
      ]
     },
     "execution_count": 553,
     "metadata": {},
     "output_type": "execute_result"
    },
    {
     "data": {
      "image/png": "[encoded data removed]",
      "text/plain": [
       "<Figure size 432x432 with 1 Axes>"
      ]
     },
     "metadata": {
      "needs_background": "light"
     },
     "output_type": "display_data"
    }
   ],
   "source": [
    "plt.figure(figsize=(6,6))\n",
    "plt.pcolormesh(np.log10(mbin/Msun),vbin/km,np.reshape(fn,(ncells_v,ncells_M)), cmap=palettable.scientific.sequential.Oslo_20_r.mpl_colormap)\n",
    "plt.xlabel(r'$\\log M_{\\rm cloud}\\, [M_\\odot]$')\n",
    "plt.ylabel(r'$v_{\\rm cloud}\\, [{\\rm km/s}]$')\n",
    "plt.xlim((M_min,M_max))\n",
    "plt.ylim((v_min,v_max))"
   ]
  },
  {
   "cell_type": "code",
   "execution_count": 554,
   "metadata": {},
   "outputs": [
    {
     "data": {
      "text/plain": [
       "array([[2.45117523e-147, 4.45049479e-147, 8.12023406e-147, ...,\n",
       "        7.38336691e-097, 2.16701869e-096, 6.34165342e-096],\n",
       "       [2.88418385e-134, 5.22894829e-134, 9.52644593e-134, ...,\n",
       "        6.35075773e-084, 1.84444377e-083, 5.33951471e-083],\n",
       "       [2.61722335e-126, 4.73741941e-126, 8.61720241e-126, ...,\n",
       "        4.14438549e-076, 1.19092409e-075, 3.41012698e-075],\n",
       "       ...,\n",
       "       [9.74838942e-289, 1.26303664e-288, 1.63191150e-288, ...,\n",
       "        4.11410821e-285, 3.54742736e-285, 3.05034021e-285],\n",
       "       [8.01008456e-293, 1.03781559e-292, 1.34091378e-292, ...,\n",
       "        3.38049424e-289, 2.91486201e-289, 2.50641378e-289],\n",
       "       [6.14137391e-297, 7.95698689e-297, 1.02808569e-296, ...,\n",
       "        2.59184422e-293, 2.23484133e-293, 1.92168174e-293]])"
      ]
     },
     "execution_count": 554,
     "metadata": {},
     "output_type": "execute_result"
    }
   ],
   "source": [
    "np.reshape(fn,(ncells_v,ncells_M))\n"
   ]
  },
  {
   "cell_type": "code",
   "execution_count": 555,
   "metadata": {},
   "outputs": [
    {
     "data": {
      "text/plain": [
       "<matplotlib.collections.QuadMesh at 0x136974850>"
      ]
     },
     "execution_count": 555,
     "metadata": {},
     "output_type": "execute_result"
    },
    {
     "data": {
      "image/png": "[encoded data removed]",
      "text/plain": [
       "<Figure size 432x288 with 1 Axes>"
      ]
     },
     "metadata": {
      "needs_background": "light"
     },
     "output_type": "display_data"
    }
   ],
   "source": [
    "plt.pcolormesh(np.log10(mbin/Msun),vbin/km,np.reshape(fn,(ncells_v,ncells_M)), cmap=palettable.scientific.sequential.Oslo_20_r.mpl_colormap)\n"
   ]
  },
  {
   "cell_type": "code",
   "execution_count": null,
   "metadata": {},
   "outputs": [],
   "source": []
  }
 ],
 "metadata": {
  "kernelspec": {
   "display_name": "Python 3",
   "language": "python",
   "name": "python3"
  },
  "language_info": {
   "codemirror_mode": {
    "name": "ipython",
    "version": 3
   },
   "file_extension": ".py",
   "mimetype": "text/x-python",
   "name": "python",
   "nbconvert_exporter": "python",
   "pygments_lexer": "ipython3",
   "version": "3.7.4"
  }
 },
 "nbformat": 4,
 "nbformat_minor": 4
}
