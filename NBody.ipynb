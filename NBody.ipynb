{
 "cells": [
  {
   "cell_type": "code",
   "execution_count": 25,
   "metadata": {},
   "outputs": [],
   "source": [
    "import numpy as np\n",
    "import glob\n",
    "from scipy import integrate, interpolate\n",
    "import matplotlib\n",
    "matplotlib.rcParams['xtick.direction'] = 'in'\n",
    "matplotlib.rcParams['ytick.direction'] = 'in'\n",
    "matplotlib.rcParams['xtick.top'] = True\n",
    "matplotlib.rcParams['ytick.right'] = True\n",
    "matplotlib.rcParams['xtick.minor.visible'] = True\n",
    "matplotlib.rcParams['ytick.minor.visible'] = True\n",
    "matplotlib.rcParams['lines.dash_capstyle'] = \"round\"\n",
    "matplotlib.rcParams['lines.solid_capstyle'] = \"round\"\n",
    "matplotlib.rcParams['legend.handletextpad'] = 0.4\n",
    "\n",
    "import matplotlib.pyplot as plt\n",
    "plt.rc('text', usetex=True)\n",
    "plt.rc('text.latex', preamble=r'\\usepackage{cmbright}  \\usepackage[T1]{fontenc}')\n",
    "\n",
    "matplotlib.rcParams['axes.linewidth'] = 0.6\n",
    "matplotlib.rcParams['ytick.major.width'] = 0.6\n",
    "matplotlib.rcParams['xtick.major.width'] = 0.6\n",
    "matplotlib.rcParams['ytick.minor.width'] = 0.45\n",
    "matplotlib.rcParams['xtick.minor.width'] = 0.45\n",
    "matplotlib.rcParams['ytick.major.size'] = 2.75\n",
    "matplotlib.rcParams['xtick.major.size'] = 2.75\n",
    "matplotlib.rcParams['ytick.minor.size'] = 1.75\n",
    "matplotlib.rcParams['xtick.minor.size'] = 1.75\n",
    "matplotlib.rcParams['legend.handlelength'] = 1.5\n",
    "\n",
    "import matplotlib.colors as colors\n",
    "from matplotlib import cm\n",
    "from matplotlib.colors import ListedColormap\n",
    "import palettable\n",
    "from scipy.integrate import ode\n",
    "from scipy.integrate import solve_ivp\n",
    "from scipy.interpolate import interp1d\n",
    "from scipy import optimize\n",
    "import cmasher as cmr\n",
    "import matplotlib.font_manager\n",
    "from numpy import random\n",
    "\n",
    "\n",
    "from scipy.sparse import diags\n",
    "from scipy.sparse.linalg import spsolve\n",
    "from ipynb.fs.full.utils import Matrix3D\n",
    "import time\n",
    "\n",
    "###########################\n",
    "gamma   = 5/3.\n",
    "kb      = 1.3806488e-16\n",
    "mp      = 1.67373522381e-24\n",
    "km      = 1e5\n",
    "s       = 1\n",
    "yr      = 3.1536e7\n",
    "Myr     = 3.1536e13\n",
    "Gyr     = 3.1536e16\n",
    "pc      = 3.086e18\n",
    "kpc     = 1.0e3 * pc\n",
    "Mpc     = 1.0e6 * pc\n",
    "H0      = 67.74*km/s/Mpc\n",
    "Om      = 0.3075\n",
    "OL      = 1 - Om\n",
    "G       = 6.673e-8\n",
    "Msun    = 2.e33\n",
    "fb      = 0.158\n",
    "keV     = 1.60218e-9\n",
    "###########################\n",
    "\n",
    "\n",
    "###########################\n",
    "mu          = 0.62\n",
    "metallicity = 10**-0.5\n",
    "muH         = 1/0.75\n",
    "###########################\n",
    "\n",
    "\n",
    "\n",
    "Z0 = 1/3.\n",
    "P0 = 1e3\n",
    "T0 = 1e6\n",
    "n0 = P0/T0\n",
    "redshift=0\n",
    "chi0 = 100.\n",
    "Mach0 = 0.0\n",
    "Turbulent_Scale0 = 1*kpc\n",
    "f_turb0 = 0.1\n",
    "f_mix = 0.1\n",
    "v_hot0 = 0.\n",
    "f_cool = 0.3\n",
    "v = 1e2*km/s\n",
    "f_ad = 0.1\n",
    "\n",
    "P = 1e5*kb\n",
    "rho = 1e-2*mu*mp\n",
    "v = 1000*km/s\n"
   ]
  },
  {
   "cell_type": "code",
   "execution_count": 26,
   "metadata": {},
   "outputs": [],
   "source": [
    "f_turb0 = 0.1\n",
    "Mdot_chi_power = 0.5\n",
    "def dot_cloud(M_cloud,v_cloud):\n",
    "    # cloud_radius(M_cloud,v_cloud):\n",
    "    T_cloud   = 1e4\n",
    "    rho_cloud   = P * (mu*mp) / (kb*T_cloud) # cloud in pressure equilibrium\n",
    "    chi         = rho_cloud / rho\n",
    "    r_cloud     = (M_cloud / (rho_cloud))**(1/3.) \n",
    "    # layer_turbulent_velocity(M_cloud,v_cloud):\n",
    "    v_turb      = f_turb0*(v-v_cloud)\n",
    "    # layer_cooling_time(M_cloud,v_cloud):\n",
    "#     t_cool_layer = 0.3*Myr ## just use this for now\n",
    "    # cloud_ksi(M_cloud,v_cloud):\n",
    "    T_wind  = P/kb * (mu*mp/rho)\n",
    "    T_mix   = np.sqrt(T_wind*T_cloud)\n",
    "    ksi     = r_cloud / (v_turb * t_cool_layer)\n",
    "    # Mdot_cloud_grow(M_cloud,v_cloud):\n",
    "    Mdot_grow   =  3 * M_cloud * v_turb / (r_cloud * chi**Mdot_chi_power) * np.where( ksi < 1, ksi**0.5, ksi**0.25 )\n",
    "    Mdot_loss   = -3 * M_cloud * v_turb / (r_cloud * chi**Mdot_chi_power) \n",
    "    force_from_transfer = (v-v_cloud)*Mdot_grow\n",
    "    return force_from_transfer/M_cloud, Mdot_grow + Mdot_loss"
   ]
  },
  {
   "cell_type": "code",
   "execution_count": 27,
   "metadata": {},
   "outputs": [],
   "source": [
    "def gen_bins(bmin, bmax, logScale, nbs_bins, unit):\n",
    "    bin_size = (bmax-bmin)/nbs_bins\n",
    "    bins = np.arange(bmin,bmax,bin_size)\n",
    "    if logScale==True: \n",
    "        bins = 10**bins * unit\n",
    "    else:\n",
    "        bins = bins * unit\n",
    "    return bins\n",
    "\n",
    "\n",
    "def gen_lognormal_dist(nbsample, logmean, logstd, unit):\n",
    "    sample=random.normal(logmean, logstd, nbsample)\n",
    "    return 10 ** sample * unit\n",
    "\n",
    "def gen_normal_dist(nbsample, mean, std, unit):\n",
    "    sample=random.normal(mean, std, nbsample)\n",
    "    return sample * unit\n",
    "\n",
    "def gen_powerlaw(nbsample, xmin, xmax, power, unit):\n",
    "    r = np.random.random(size=nbsample)\n",
    "    ag, bg = xmin**power, xmax**power\n",
    "    return (ag + (bg - ag)*r) ** (1./power) * unit\n",
    "\n",
    "def gen_cloud(v_samples, m_samples):\n",
    "    sample=[]\n",
    "    nb_vsam = len(v_samples)\n",
    "    nb_msam = len(m_samples)\n",
    "    if nb_vsam != nb_msam:\n",
    "        print(\"number of samples of velocity and Mass does not match\")\n",
    "    for i in range(nb_vsam):\n",
    "        sample.append((i, v_samples[i], m_samples[i]))\n",
    "    return sample\n",
    "\n",
    "def binnings(clouds, v_bins, M_bins):\n",
    "    nbs_vbin= len(v_bins)\n",
    "    nbs_Mbin= len(M_bins)\n",
    "    f=np.reshape(np.zeros(nbs_vbin * nbs_Mbin),(nbs_vbin,nbs_Mbin))\n",
    "    v_min = v_bins[0]\n",
    "    v_max = v_bins[nbs_vbin-1]\n",
    "    M_min = M_bins[0]\n",
    "    M_max = M_bins[nbs_Mbin-1]\n",
    "    for item in clouds:\n",
    "        if (item[1]>=v_min) and (item[1]<=v_max) and (item[2]>=M_min) and (item[2]<=M_max):\n",
    "            v_idx = np.max(np.where(v_bins <= item[1]))\n",
    "            M_idx = np.max(np.where(M_bins <= item[2]))\n",
    "            f[v_idx][M_idx]+=1\n",
    "    return f\n",
    "\n",
    "def plot_density(f, downscale):\n",
    "    plt.figure(figsize=(6,6))\n",
    "    plt.pcolormesh((M_cloud_bins/Msun),v_cloud_bins/1e5, np.abs(f)/downscale,cmap=palettable.scientific.sequential.Oslo_20_r.mpl_colormap, norm=colors.SymLogNorm(vmin=1e-5,vmax=1e-3,linthresh=1e-6))\n",
    "    plt.xscale('log')\n",
    "    plt.xlabel('Mass [M$_\\odot$]')\n",
    "    plt.ylabel('velocity [km/s]')\n",
    "    plt.title(\"Density of cloud mass vs cloud velocity\")\n",
    "    \n",
    "\n",
    "def plot_vel(dens0, dens, v_cloud_bins):\n",
    "    plt.figure(figsize=(6,6))\n",
    "    (cells,_) = dens.shape\n",
    "    bins = []\n",
    "    bins0=[]\n",
    "    [bins.append(sum(dens[i][:])) for i in range(cells)]\n",
    "    [bins0.append(sum(dens0[i][:])) for i in range(cells)]\n",
    "    plt.plot(v_cloud_bins/1e5, bins/np.sum(dens), label='final density')\n",
    "    plt.plot(v_cloud_bins/1e5, bins0/np.sum(dens0), label='initial density')\n",
    "    plt.title(\"cloud velocity density function\")\n",
    "    plt.legend()\n",
    "    return\n",
    "  \n",
    "\n",
    "def plot_mass(dens0, dens, M_cloud_bins, logscale):\n",
    "    plt.figure(figsize=(6,6))\n",
    "    (_,cells) = dens.shape\n",
    "    bins =[]\n",
    "    bins0=[]\n",
    "    [bins.append(sum(np.transpose(dens)[i][:])) for i in range(cells)]\n",
    "    [bins0.append(sum(np.transpose(dens0)[i][:])) for i in range(cells)]\n",
    "    if logscale:\n",
    "        bins = np.log10(bins/np.sum(dens))\n",
    "        bins0 = np.log10(bins0/np.sum(dens0))\n",
    "    else:\n",
    "        bins = bins/np.sum(dens) \n",
    "        bins0 = bins0/np.sum(dens0) \n",
    "    plt.plot(np.log10(M_cloud_bins/Msun), bins, label='final density')\n",
    "    plt.plot(np.log10(M_cloud_bins/Msun), bins0, label='initial density')\n",
    "    plt.title(\"cloud mass density function\")\n",
    "    plt.legend()\n",
    "    return"
   ]
  },
  {
   "cell_type": "code",
   "execution_count": 28,
   "metadata": {},
   "outputs": [],
   "source": [
    "def evolve_single(t,z):\n",
    "    M_cloud = z[0]\n",
    "    v_cloud = z[1]\n",
    "    dot = dot_cloud(z[0],z[1])\n",
    "    return [dot[1], dot[0]]"
   ]
  },
  {
   "cell_type": "code",
   "execution_count": 29,
   "metadata": {},
   "outputs": [
    {
     "name": "stdout",
     "output_type": "stream",
     "text": [
      "1000\n",
      "0\n",
      "--- 4.4040749073028564 seconds ---\n"
     ]
    }
   ],
   "source": [
    "nbs_cloud = 1000\n",
    "ncells_v=150\n",
    "ncells_M=150\n",
    "\n",
    "dt = 10**(5)*yr/2\n",
    "timeStep = 200\n",
    "\n",
    "M0 = 1e2 * Msun\n",
    "v0 = 100 * km\n",
    "r_cloud     = (M0 / (rho*100))**(1/3.)\n",
    "v_turb = f_turb0*(v-v0)\n",
    "#t_cool_layer = r_cloud / v_turb / 10**0\n",
    "t_cool_layer = 0.2  * Myr\n",
    "\n",
    "# Clouds generation\n",
    "v_cloud_bins = gen_bins(0,1000,False,ncells_v,km)\n",
    "v_dist = gen_normal_dist(nbs_cloud, 100, 20, km)\n",
    "\n",
    "# lognormal\n",
    "M_cloud_bins = gen_bins(-1,5,True,ncells_M,Msun)\n",
    "M_dist = gen_lognormal_dist(nbs_cloud, 2,0.5, Msun)\n",
    "\n",
    "# power law\n",
    "M_cloud_bins = gen_bins(-5,7,True,ncells_M,Msun)\n",
    "M_dist = gen_powerlaw(nbs_cloud, 10**2, 10**7, -1, Msun)\n",
    "\n",
    "\n",
    "clouds = gen_cloud(v_dist, M_dist)\n",
    "\n",
    "\n",
    "f_n0=np.reshape(np.zeros(ncells_v*ncells_M),(ncells_v,ncells_M))\n",
    "f_n1=np.reshape(np.zeros(ncells_v*ncells_M),(ncells_v,ncells_M))\n",
    "    \n",
    "f_n0 = binnings(clouds, v_cloud_bins, M_cloud_bins)\n",
    "        \n",
    "start_time = time.time()\n",
    "print(nbs_cloud)\n",
    "clouds_n = clouds\n",
    "for i in range(nbs_cloud):\n",
    "    (fn, vn, Mn) = clouds_n[i]\n",
    "    sol  = solve_ivp(evolve_single, [0, dt*(timeStep+1)], [Mn,vn], dense_output=True, first_step=dt/1e10, rtol=1e-6)\n",
    "    ly0 = len(sol.y[0])\n",
    "    ly1 = len(sol.y[1])\n",
    "    clouds_n[i] = (fn, sol.y[1][ly1-1], sol.y[0][ly0-1])\n",
    "    if i % 5000 == 0: print(i)\n",
    "print(\"--- %s seconds ---\" % (time.time() - start_time))\n",
    "\n",
    "f_n1 = binnings(clouds_n, v_cloud_bins, M_cloud_bins)"
   ]
  },
  {
   "cell_type": "code",
   "execution_count": 30,
   "metadata": {},
   "outputs": [
    {
     "name": "stderr",
     "output_type": "stream",
     "text": [
      "/Library/Frameworks/Python.framework/Versions/3.7/lib/python3.7/site-packages/ipykernel_launcher.py:80: RuntimeWarning: divide by zero encountered in log10\n",
      "/Library/Frameworks/Python.framework/Versions/3.7/lib/python3.7/site-packages/ipykernel_launcher.py:81: RuntimeWarning: divide by zero encountered in log10\n"
     ]
    },
    {
     "data": {
      "image/png": "[encoded data removed]",
      "text/plain": [
       "<Figure size 432x432 with 1 Axes>"
      ]
     },
     "metadata": {
      "needs_background": "light"
     },
     "output_type": "display_data"
    },
    {
     "data": {
      "image/png": "[encoded data removed]",
      "text/plain": [
       "<Figure size 432x432 with 1 Axes>"
      ]
     },
     "metadata": {
      "needs_background": "light"
     },
     "output_type": "display_data"
    },
    {
     "data": {
      "image/png": "[encoded data removed]",
      "text/plain": [
       "<Figure size 432x432 with 1 Axes>"
      ]
     },
     "metadata": {
      "needs_background": "light"
     },
     "output_type": "display_data"
    }
   ],
   "source": [
    "plot_density(f_n0+f_n1, 10000)\n",
    "plot_vel(f_n0, f_n1, v_cloud_bins)\n",
    "plot_mass(f_n0, f_n1, M_cloud_bins, True)"
   ]
  },
  {
   "cell_type": "code",
   "execution_count": 31,
   "metadata": {},
   "outputs": [
    {
     "data": {
      "text/plain": [
       "array([0.00000000e+00, 1.57680000e+02, 1.73448000e+03, 1.75024800e+04,\n",
       "       1.75182480e+05, 1.75198248e+06, 1.75199825e+07, 1.75199982e+08,\n",
       "       1.75199998e+09, 1.75200000e+10, 1.75200000e+11, 1.75200000e+12,\n",
       "       8.48777635e+12, 1.64291210e+13, 2.57188743e+13, 3.42374113e+13,\n",
       "       4.27559483e+13, 5.52143736e+13, 6.95797781e+13, 8.65470562e+13,\n",
       "       1.06630761e+14, 1.30492720e+14, 1.58871611e+14, 1.92489161e+14,\n",
       "       2.31937584e+14, 2.77715880e+14, 3.16936800e+14])"
      ]
     },
     "execution_count": 31,
     "metadata": {},
     "output_type": "execute_result"
    }
   ],
   "source": [
    "sol.t"
   ]
  },
  {
   "cell_type": "code",
   "execution_count": 32,
   "metadata": {},
   "outputs": [
    {
     "data": {
      "text/plain": [
       "316936800000000.0"
      ]
     },
     "execution_count": 32,
     "metadata": {},
     "output_type": "execute_result"
    }
   ],
   "source": [
    "dt*(timeStep+1)"
   ]
  },
  {
   "cell_type": "code",
   "execution_count": 33,
   "metadata": {},
   "outputs": [],
   "source": [
    "f = interp1d(sol.t, sol.y[0], kind = 'cubic')"
   ]
  },
  {
   "cell_type": "code",
   "execution_count": 34,
   "metadata": {},
   "outputs": [],
   "source": [
    "clouds = gen_cloud(v_dist, M_dist)\n",
    "cld_n=[]\n",
    "for item in clouds:\n",
    "    (fn, vn, Mn) = item\n",
    "    sol  = solve_ivp(evolve_single, [0, dt*(timeStep+1)], [Mn,vn], dense_output=True, first_step=dt/1e10, rtol=1e-6)\n",
    "    cld_n.append((fn, interp1d(sol.t, np.log10(sol.y[0]/Msun), kind='cubic'), interp1d(sol.t, sol.y[1]/km, kind='cubic')))\n",
    "    "
   ]
  },
  {
   "cell_type": "code",
   "execution_count": 35,
   "metadata": {},
   "outputs": [
    {
     "data": {
      "image/png": "[encoded data removed]",
      "text/plain": [
       "<Figure size 432x288 with 1 Axes>"
      ]
     },
     "metadata": {
      "needs_background": "light"
     },
     "output_type": "display_data"
    }
   ],
   "source": [
    "import matplotlib.animation as animation\n",
    "from IPython.display import HTML\n",
    "fv=[]\n",
    "fm=[]\n",
    "tn=[dt*i for i in range(timeStep+1)]\n",
    "for item in cld_n:\n",
    "    fm.append(item[1](tn))\n",
    "    fv.append(item[2](tn))\n",
    "    \n",
    "\n",
    "fig, ax = plt.subplots()\n",
    "def animate(i):\n",
    "    ax.cla()\n",
    "    plt.title('Phase space evolution for ksi=0')\n",
    "    plt.xlabel('Cloud Mass [log M/M$_\\odot$]')\n",
    "    plt.ylabel('Cloud velocity [km/s]')\n",
    "    ax.set_ylim((0,1000))\n",
    "    ax.set_xlim((0,8))\n",
    "    f_m = np.transpose(fm)[i]\n",
    "    f_v = np.transpose(fv)[i]\n",
    "    ax.scatter(f_m,f_v, s=1)\n",
    "\n",
    "anim = animation.FuncAnimation(fig, animate, frames=200, interval=20, repeat=False)\n",
    "# HTML(anim.to_html5_video())\n",
    "\n",
    "f = r\"./animation_ksi_0.mov\" \n",
    "writervideo = animation.FFMpegWriter(fps=60) \n",
    "anim.save(f, writer=writervideo)"
   ]
  },
  {
   "cell_type": "code",
   "execution_count": 36,
   "metadata": {},
   "outputs": [
    {
     "data": {
      "text/plain": [
       "0.2"
      ]
     },
     "execution_count": 36,
     "metadata": {},
     "output_type": "execute_result"
    }
   ],
   "source": [
    "t_cool_layer / Myr\n",
    "\n"
   ]
  },
  {
   "cell_type": "code",
   "execution_count": null,
   "metadata": {},
   "outputs": [],
   "source": []
  }
 ],
 "metadata": {
  "kernelspec": {
   "display_name": "Python 3",
   "language": "python",
   "name": "python3"
  },
  "language_info": {
   "codemirror_mode": {
    "name": "ipython",
    "version": 3
   },
   "file_extension": ".py",
   "mimetype": "text/x-python",
   "name": "python",
   "nbconvert_exporter": "python",
   "pygments_lexer": "ipython3",
   "version": "3.7.4"
  }
 },
 "nbformat": 4,
 "nbformat_minor": 4
}
