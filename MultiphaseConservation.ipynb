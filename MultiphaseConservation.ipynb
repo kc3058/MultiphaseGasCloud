{
 "cells": [
  {
   "cell_type": "code",
   "execution_count": 1,
   "metadata": {},
   "outputs": [],
   "source": [
    "%run ./const\n",
    "%run ./param\n",
    "import sys\n",
    "import csv\n",
    "import numpy as np\n",
    "import glob\n",
    "from scipy import integrate, interpolate\n",
    "import matplotlib\n",
    "import math\n",
    "matplotlib.rcParams['xtick.direction'] = 'in'\n",
    "matplotlib.rcParams['ytick.direction'] = 'in'\n",
    "matplotlib.rcParams['xtick.top'] = True\n",
    "matplotlib.rcParams['ytick.right'] = True\n",
    "matplotlib.rcParams['xtick.minor.visible'] = True\n",
    "matplotlib.rcParams['ytick.minor.visible'] = True\n",
    "matplotlib.rcParams['lines.dash_capstyle'] = \"round\"\n",
    "matplotlib.rcParams['lines.solid_capstyle'] = \"round\"\n",
    "matplotlib.rcParams['legend.handletextpad'] = 0.4\n",
    "\n",
    "import matplotlib.pyplot as plt\n",
    "plt.rc('text', usetex=True)\n",
    "plt.rc('text.latex', preamble=r'\\usepackage{cmbright}  \\usepackage[T1]{fontenc}')\n",
    "\n",
    "matplotlib.rcParams['axes.linewidth'] = 0.6\n",
    "matplotlib.rcParams['ytick.major.width'] = 0.6\n",
    "matplotlib.rcParams['xtick.major.width'] = 0.6\n",
    "matplotlib.rcParams['ytick.minor.width'] = 0.45\n",
    "matplotlib.rcParams['xtick.minor.width'] = 0.45\n",
    "matplotlib.rcParams['ytick.major.size'] = 2.75\n",
    "matplotlib.rcParams['xtick.major.size'] = 2.75\n",
    "matplotlib.rcParams['ytick.minor.size'] = 1.75\n",
    "matplotlib.rcParams['xtick.minor.size'] = 1.75\n",
    "matplotlib.rcParams['legend.handlelength'] = 1.5\n",
    "\n",
    "import matplotlib.colors as colors\n",
    "from matplotlib import cm\n",
    "from matplotlib.colors import ListedColormap\n",
    "import palettable\n",
    "from scipy.integrate import ode\n",
    "from scipy.integrate import solve_ivp\n",
    "from scipy.interpolate import interp1d\n",
    "from scipy import optimize\n",
    "import cmasher as cmr\n",
    "import matplotlib.font_manager\n",
    "from numpy import random\n",
    "from scipy.stats import lognorm\n",
    "from scipy.stats import norm\n",
    "import scipy.optimize as opt\n",
    "\n",
    "from scipy.sparse import diags\n",
    "from scipy.sparse import csr_matrix\n",
    "from scipy.sparse.linalg import spsolve\n",
    "from ipynb.fs.full.utils import Matrix3D\n",
    "import time\n",
    "\n",
    "###########################\n",
    "gamma   = 5/3.\n",
    "kb      = 1.3806488e-16\n",
    "mp      = 1.67373522381e-24\n",
    "km      = 1e5\n",
    "s       = 1\n",
    "yr      = 3.1536e7\n",
    "Myr     = 3.1536e13\n",
    "Gyr     = 3.1536e16\n",
    "pc      = 3.086e18\n",
    "kpc     = 1.0e3 * pc\n",
    "Mpc     = 1.0e6 * pc\n",
    "H0      = 67.74*km/s/Mpc\n",
    "Om      = 0.3075\n",
    "OL      = 1 - Om\n",
    "G       = 6.673e-8\n",
    "Msun    = 2.e33\n",
    "fb      = 0.158\n",
    "keV     = 1.60218e-9\n",
    "###########################\n",
    "\n",
    "\n",
    "###########################\n",
    "mu          = 0.62\n",
    "metallicity = 10**-0.5\n",
    "muH         = 1/0.75\n",
    "###########################\n",
    "\n",
    "const = Const()\n",
    "pm = Param(\"Inputs\", const).paramDict"
   ]
  },
  {
   "cell_type": "code",
   "execution_count": 2,
   "metadata": {},
   "outputs": [],
   "source": [
    "class EvolveControl:\n",
    "    def __init__(self, const, pm):\n",
    "        r_start = pm['R_START']\n",
    "        r_delta = pm['R_DELTA']\n",
    "        r_steps = pm['R_STEPS']\n",
    "        self.sonic_point = pm['SONIC_POINT']\n",
    "        self.r_wind = r_start\n",
    "        self.r_cloud = r_start\n",
    "        self.dr_schedule = [r_delta for i in range(r_steps+1)]\n",
    "        r_bndry = np.array([r_start - self.dr_schedule[0]/2])\n",
    "        for dr in self.dr_schedule:\n",
    "            r_bndry = np.append(r_bndry, r_bndry[-1]+dr)\n",
    "        r_schedule = (r_bndry[:-1] + r_bndry[1:])/2\n",
    "        self.dr = r_schedule[1:]-r_schedule[:-1]\n",
    "        self.dvol_schedule = 4 / 3 * np.pi * (r_bndry[1:]**3 - r_bndry[:-1]**3)\n",
    "        self.r_schedule = r_schedule\n",
    "        self.wind_i=0\n",
    "        self.cloud_i=0\n",
    "        self.cfl_m0 = []\n",
    "        self.cfl_m1 = []\n",
    "        self.cfl_v0 = []\n",
    "        self.cfl_v1 = []\n",
    "        self.current_r = r_start\n",
    "            \n",
    "    def get_r_info(self, dr):\n",
    "        r_curr = self.current_r\n",
    "        r_next = r_curr + dr\n",
    "        dvol - 4/3 * np.pi * (r_next**3 - r_curr**3)\n",
    "        return r_curr, r_next, dvol\n",
    "        \n",
    "    def get_windr_info(self):\n",
    "        r_curr = self.r_schedule[self.wind_i]\n",
    "        r_next = self.r_schedule[self.wind_i + 1]\n",
    "        dr = self.dr[self.wind_i]\n",
    "        dvol = self.dvol_schedule[self.wind_i]\n",
    "        return r_curr, r_next, dr, dvol\n",
    "        \n",
    "    def get_cloudr_info(self):\n",
    "        r_curr = self.r_schedule[self.cloud_i]\n",
    "        r_next = self.r_schedule[self.cloud_i + 1]\n",
    "        dr = self.dr[self.cloud_i]\n",
    "        dvol = self.dvol_schedule[self.cloud_i]\n",
    "        return r_curr, r_next, dr, dvol"
   ]
  },
  {
   "cell_type": "code",
   "execution_count": 3,
   "metadata": {},
   "outputs": [],
   "source": [
    "class Cooling:\n",
    "    def __init__(self, fname):\n",
    "        file = glob.glob(fname) ## CHANGE FOR WHERE YOU WANT TO KEEP IT\n",
    "        if len(file) > 0:\n",
    "            data = np.load(file[0])\n",
    "            Lambda_tab = data['Lambda_tab']\n",
    "            redshifts  = data['redshifts']\n",
    "            Zs         = data['Zs']\n",
    "            log_Tbins  = data['log_Tbins']\n",
    "            log_nHbins = data['log_nHbins']    \n",
    "            self.Lambda     = interpolate.RegularGridInterpolator((log_nHbins,log_Tbins,Zs,redshifts), Lambda_tab, bounds_error=False, fill_value=1e-30)\n",
    "        else:\n",
    "            print(\"Cooling curve file not found\")\n",
    "            \n",
    "    def tcool_P(self, T,P, metallicity, mu, muH):\n",
    "        T = np.where(T>10**8.98, 10**8.98, T)\n",
    "        T = np.where(T<10**2, 10**2, T)\n",
    "        nH_actual = P/T*(mu/muH)\n",
    "        nH = np.where(nH_actual>1, 1, nH_actual)\n",
    "        nH = np.where(nH<10**-8, 10**-8, nH)\n",
    "        return 1.5 * (muH/mu)**2 * kb * T / ( nH_actual * self.Lambda((np.log10(nH),np.log10(T), metallicity,0)))"
   ]
  },
  {
   "cell_type": "code",
   "execution_count": 4,
   "metadata": {},
   "outputs": [
    {
     "data": {
      "text/plain": [
       "array(9.08173569e-24)"
      ]
     },
     "execution_count": 4,
     "metadata": {},
     "output_type": "execute_result"
    }
   ],
   "source": [
    "coolCurve = Cooling('Lambda_tab_redshifts.npz')\n",
    "coolCurve.Lambda((-1, np.log10(1e6), 0.02, 0))"
   ]
  },
  {
   "cell_type": "code",
   "execution_count": 5,
   "metadata": {},
   "outputs": [],
   "source": [
    "class Transfer:\n",
    "    def __init__(self, const, pm):\n",
    "        self.wind_P = 0.\n",
    "        self.wind_v = 0.\n",
    "        self.wind_rho = 0.\n",
    "        self.wind_rhoz = 0.\n",
    "        self.wind_T = 0.\n",
    "        self.rho_dot = 0.\n",
    "        self.p_dot = 0.\n",
    "        self.epsilon_dot = 0.\n",
    "        self.cloudMC_retire = np.array([])\n",
    "        self.cloudFD_retire = np.array([])\n",
    "        return\n",
    "        \n",
    "    def calcSource(self, Mdot_grow, Mdot_loss, cloud_info, rho_cloud, aux_params):        \n",
    "        P, v, rho = self.wind_P, self.wind_v, self.wind_rho\n",
    "        M_cloud = cloud_info[:,0]\n",
    "        v_cloud = cloud_info[:,1]\n",
    "        N_cloud = cloud_info[:,2]\n",
    "        dr, dvol, gamma, retire_mass, retire_flag = aux_params\n",
    "        \n",
    "        dt = abs(dr/v_cloud)\n",
    "        Mdot_grow = np.where(M_cloud < retire_mass, 0, Mdot_grow)\n",
    "        Mdot_loss = np.where(M_cloud < retire_mass, -M_cloud/dt, Mdot_loss)\n",
    "        n_cloud = N_cloud/dvol\n",
    "        rho_dot = (Mdot_grow + Mdot_loss) * n_cloud\n",
    "        p_dot = (v * Mdot_grow + v_cloud * Mdot_loss) * n_cloud\n",
    "        vB_2 = 0.5 * v**2 + gamma / (gamma - 1) * P / rho   # leave out escape velocity\n",
    "        vB_cloud_2 = 0.5 * v_cloud**2 + gamma / (gamma - 1) * P / rho_cloud\n",
    "        epsilon_dot = (vB_2 * Mdot_grow + vB_cloud_2 * Mdot_loss) * n_cloud  \n",
    "        return rho_dot, p_dot, epsilon_dot\n",
    "    \n",
    "    def updateSourceMC(self, Mdot_grow, Mdot_loss, cloud_info, rho_cloud, aux_params):\n",
    "\n",
    "        # retired clouds as source\n",
    "        if (self.cloudMC_retire.size == 0):\n",
    "            rho_dot_retired = 0.\n",
    "            p_dot_retired = 0.\n",
    "            epsilon_dot_retired = 0.\n",
    "        else:\n",
    "            rhodot, pdot, epsilondot = self.calcSource(0, 0, self.cloudMC_retire, rho_cloud, aux_params)\n",
    "            rho_dot_retired = -sum(rhodot)\n",
    "            p_dot_retired = -sum(pdot)\n",
    "            epsilon_dot_retired = -sum(epsilondot)\n",
    "        \n",
    "        # live clouds as source\n",
    "        rhodot, pdot, epsilondot = self.calcSource(Mdot_grow, Mdot_loss, cloud_info, rho_cloud, aux_params)\n",
    "        rho_dot_lived = -sum(rhodot)\n",
    "        p_dot_lived = -sum(pdot)\n",
    "        epsilon_dot_lived = -sum(epsilondot)\n",
    "        \n",
    "        self.rho_dot = rho_dot_retired + rho_dot_lived\n",
    "        self.p_dot = p_dot_retired + p_dot_lived\n",
    "        self.epsilon_dot = epsilon_dot_retired + epsilon_dot_lived\n",
    "        return\n",
    "\n",
    "    def updateSourceFD(self, Mdot_grow, Mdot_loss, rho_cloud, dmdv, aux_params):\n",
    "        rhodot, pdot, epsilondot = self.calcSource(Mdot_grow, Mdot_loss, self.cloudFD_retire, rho_cloud, aux_params)\n",
    "        self.rho_dot = -sum(rhodot * dmdv)\n",
    "        self.p_dot = -sum(pdot * dmdv)\n",
    "        self.epsilon_dot = -sum(epsilondot * dmdv)\n",
    "        return\n",
    "    \n",
    "    def updateWindParams(self, P, v, rho, rhoz):\n",
    "        self.wind_P = P\n",
    "        self.wind_v = v\n",
    "        self.wind_rho = rho\n",
    "        self.wind_rhoz = rhoz\n",
    "        self.wind_T = P / const.kb * (const.wind_mu * const.mp / rho)  \n",
    "        res.add_wind_v(transfer.wind_v)\n",
    "        res.add_wind_rho(transfer.wind_rho)\n",
    "        res.add_wind_P(transfer.wind_P)\n",
    "        res.add_wind_rhoz(transfer.wind_rhoz)\n",
    "        "
   ]
  },
  {
   "cell_type": "code",
   "execution_count": 6,
   "metadata": {},
   "outputs": [],
   "source": [
    "class Utils:\n",
    "    \n",
    "    @staticmethod\n",
    "    def genGrid(xmin, xmax, nbs, log, unit):\n",
    "        delta = (xmax - xmin)/nbs\n",
    "        boundary = [xmin]\n",
    "        for i in range(nbs):\n",
    "            boundary.append(xmin+(i+1)*delta)\n",
    "        boundary = np.array(boundary)\n",
    "        if (log==True):\n",
    "            bndry = 10**boundary * unit\n",
    "        else:\n",
    "            bndry = boundary * unit\n",
    "        center = np.array([0.5 * (bndry[i] + bndry[i+1])for i in range(nbs)])\n",
    "        delta = np.array([bndry[i+1] - bndry[i] for i in range(nbs)])\n",
    "        return center, bndry, delta\n",
    "\n",
    "    @staticmethod\n",
    "    def pseudo_lognormal(bmin, bmax, nbs_bins, mu, sigma, unit, mtotal):\n",
    "        bin_size = (bmax-bmin)/(nbs_bins+2)\n",
    "        logbins = np.arange(bmin,bmax,bin_size)\n",
    "        bins = 10**logbins * unit\n",
    "        mu = mu + np.log10(unit)\n",
    "        z=(np.log10(bins[1:-1])-mu)/sigma\n",
    "        f = 1 / (sigma * np.sqrt(2*np.pi)) * np.exp(-0.5*z**2)\n",
    "        _delta = bins[1:]-bins[:-1]\n",
    "        delta_b = _delta[:-1]\n",
    "        delta_f = _delta[1:]\n",
    "        return f, bins[1:-1], delta_b, delta_f     \n",
    "    \n",
    "    @staticmethod    \n",
    "    def lognormal(bmin, bmax, nbs_bins, mu, sigma, unit):\n",
    "        center, bndry, delta = Utils.genGrid(bmin, bmax, nbs_bins, True, unit) \n",
    "        mu = mu + np.log10(unit)\n",
    "        z=(np.log10(center)-mu)/sigma\n",
    "#        f = np.log10(np.e) / ( center * sigma * np.sqrt(2*np.pi)) * np.exp(-0.5*z**2)\n",
    "        f = 1 / (sigma * np.sqrt(2*np.pi)) * np.exp(-0.5*z**2)\n",
    "        return f, center, delta, bndry            \n",
    "\n",
    "    @staticmethod\n",
    "    def normal(bmin, bmax, nbs_bins, mu, sigma, unit):\n",
    "        center, bndry, delta = Utils.genGrid(bmin, bmax, nbs_bins, False, unit)\n",
    "        z = (center/unit - mu)/(sigma)\n",
    "        f=1/(sigma * unit * np.sqrt(2 * np.pi)) * np.exp(-0.5 * z**2) \n",
    "        return f, center, delta, bndry        \n",
    "    \n",
    "    @staticmethod\n",
    "    def gen_uniform_dist(nbsample, mini, maxi, unit):\n",
    "        return random.uniform(mini, maxi, nbsample)*unit\n",
    "\n",
    "    @staticmethod\n",
    "    def gen_lognormal_dist(nbsample, logmean, logstd, unit):\n",
    "        sample=random.normal(logmean, logstd, nbsample)\n",
    "        return 10 ** sample * unit\n",
    "\n",
    "    @staticmethod\n",
    "    def gen_normal_dist(nbsample, mean, std, unit):\n",
    "        sample=random.normal(mean, std, nbsample)\n",
    "        return sample * unit\n",
    "\n",
    "    @staticmethod\n",
    "    def gen_powerlaw(nbsample, xmin, xmax, power, unit):\n",
    "        r = np.random.random(size=nbsample)\n",
    "        ag, bg = xmin**power, xmax**power\n",
    "        return (ag + (bg - ag)*r) ** (1./power) * unit    \n",
    "    \n",
    "    @staticmethod\n",
    "    def dot_cloud_calc(P, v, rho, M_cloud, v_cloud, pm):        \n",
    "        T_cloud = pm['CLOUD_TEMP']\n",
    "        f_turb0 = pm['F_TURB0']\n",
    "        Mdot_chi_power = pm['MDOT_CHI_POWER']\n",
    "\n",
    "        Lambda_cool = lambda T : 5e-22 * (T/2e5)**np.where(T>2e5, -2/3., 1/2.)        \n",
    "        # cloud_radius(M_cloud,v_cloud):\n",
    "        rho_cloud   = P * (mu*mp) / (kb*T_cloud) # cloud in pressure equilibrium\n",
    "        chi         = rho_cloud / rho\n",
    "\n",
    "        r_cloud     = (M_cloud / (rho_cloud))**(1/3.) \n",
    "        # layer_turbulent_velocity(M_cloud,v_cloud):\n",
    "        \n",
    "        v_turb0      = f_turb0*(v-v_cloud)\n",
    "        v_turb = np.where(v_turb0 <=0, 0.001, v_turb0)\n",
    "                \n",
    "        T_wind  = P/kb * (mu*mp/rho)\n",
    "        T_mix   = np.sqrt(T_wind*T_cloud)\n",
    "\n",
    "        # layer_cooling_time\n",
    "        T = T_mix\n",
    "        T = np.where(T>10**8.98, 10**8.98, T)\n",
    "        T = np.where(T<10**2, 10**2, T)\n",
    "        nH_actual = P/kb/T*(mu/muH)\n",
    "        nH = np.where(nH_actual>1, 1, nH_actual)\n",
    "        nH = np.where(nH<10**-8, 10**-8, nH)\n",
    "        t_cool_layer = 1.5 * (muH/mu)**2 * kb * T / ( nH_actual * Lambda_cool(T_mix))        \n",
    "\n",
    "#        t_cool_layer = 1.5 * (muH/mu)**2 * kb * T / ( nH_actual * self.Lambda((np.log10(nH),np.log10(T), metallicity,0)))        \n",
    "#        t_cool_layer = self.cool.tcool_P(T_mix, P/kb, self.metallicity, self.mu, self.muH)    \n",
    "#        t_cool_layer = self.t_cool_layer    \n",
    "\n",
    "        # cloud_ksi(M_cloud,v_cloud):        \n",
    "        ksi     = r_cloud / (v_turb * t_cool_layer)\n",
    "\n",
    "        # Mdot_cloud_grow(M_cloud,v_cloud):\n",
    "        Mdot_grow   =  3 * M_cloud * v_turb / (r_cloud * chi**Mdot_chi_power) * np.where( ksi < 1, ksi**0.5, ksi**0.25 )\n",
    "        Mdot_loss   = -3 * M_cloud * v_turb / (r_cloud * chi**Mdot_chi_power) \n",
    "        force_from_transfer = (v-v_cloud)*Mdot_grow\n",
    "\n",
    "        Mdot = (Mdot_grow + Mdot_loss)\n",
    "        vdot = (force_from_transfer/M_cloud)\n",
    "        return Mdot, vdot, Mdot_grow, Mdot_loss, rho_cloud\n",
    "\n",
    "        \n",
    "    @staticmethod\n",
    "    def retireCloud(M_clouds, v_clouds, N_clouds, retire_mass):\n",
    "        cloud_stack = np.column_stack((M_clouds, v_clouds, N_clouds))\n",
    "        cloud_live = np.array([list(item) for item in cloud_stack if item[0] >= retire_mass])\n",
    "        cloud_retire = np.array([list(item) for item in cloud_stack if item[0] < retire_mass])\n",
    "        return cloud_live, cloud_retire\n",
    "        \n",
    "    @staticmethod        \n",
    "    def getdr_MC(CLF_MC, M_clouds, v_clouds, Mdot): \n",
    "        dr_M = CLF_MC * min(abs(M_clouds * v_clouds / Mdot))\n",
    "        return dr_M\n"
   ]
  },
  {
   "cell_type": "code",
   "execution_count": 7,
   "metadata": {},
   "outputs": [],
   "source": [
    "class Wind:      \n",
    "    \n",
    "    def __init__(self, control, const, pm, res, transfer):\n",
    "        control.wind_i = 0\n",
    "        r0 = control.sonic_point   # sonic point\n",
    "        r_start = control.r_schedule[0]\n",
    "        self.gamma = 5/3     # adiabatic index\n",
    "        epsilon = 1e-5   \n",
    "        Mach0 = 1       \n",
    "        Mach = Mach0 * (1+epsilon)     \n",
    "        self.v_cir=pm['V_CIR']\n",
    "        self.metallicity = pm['WIND_METALLICITY']\n",
    "        beta = pm['BETA']      # mass loading \n",
    "        alpha = pm['ALPHA']     # energy loading\n",
    "        SFR = pm['SFR']       # star formation rate\n",
    "        Mdot = pm['MDOT']        # mass injection rate\n",
    "        Edot = pm['EDOT']    # energy injection rate\n",
    "        v0 = (Mdot / Edot * (1/2 + 1/((gamma - 1) * Mach**2)))**(-1/2)  # velocity at sonic point\n",
    "        rho0 = Mdot / (4 * np.pi * r0**2 * v0)   # density at sonic point\n",
    "        P0 = rho0 * (gamma - 1)/gamma * (Edot/Mdot - v0**2/2)   # pressure at sonic point\n",
    "        rhoz0 = rho0 * self.metallicity\n",
    "        Vol = 4/3 * np.pi * r0**3         \n",
    "        self.Mdot_per_Vol = Mdot / Vol    \n",
    "        self.Edot_per_Vol = Edot / Vol\n",
    "        self.v_c = 0    \n",
    "        \n",
    "        \n",
    "        def supersonic(r,z):\n",
    "            return z[0]/np.sqrt(gamma*z[2]/z[1]) - 1.001\n",
    "\n",
    "        supersonic.terminal = True\n",
    "        supersonic.direction = -1        \n",
    "        \n",
    "        def evolve(r, z):\n",
    "            v,rho,P, rhoz= z\n",
    "            (dv_dr, drho_dr, dP_dr, drhoz_dr) = self.getDerivatives(r, v, rho, P, rhoz, r0, 0, 0, 0)    \n",
    "            return [dv_dr, drho_dr, dP_dr, drhoz_dr] \n",
    "\n",
    "        # transverse the wind to starting position\n",
    "        if r_start > r0:\n",
    "            sol_sup = solve_ivp(evolve, [r0, r_start], \n",
    "                            [v0,rho0,P0,rhoz0], dense_output=True, \n",
    "                            rtol=1e-12, atol=[1, 1e-7*mp, 1e-2*kb, 1e-7*mp])  \n",
    "            dv_dr, drho_dr, dP_dr, drhoz_dr = self.getDerivatives(r0, v0, rho0, P0, rhoz0, r0, 0, 0, 0)\n",
    "            dlogvdlogr = dv_dr * r0/v0\n",
    "            dlogrhodlogr = drho_dr * r0/rho0\n",
    "            dlogPdlogr = dP_dr * r0/P0\n",
    "            dlogrhozdlogr = drhoz_dr * r0/rhoz0\n",
    "\n",
    "            dlogr0 = -1e-8\n",
    "\n",
    "            v0_sub = 10**(np.log10(v0) + dlogvdlogr * dlogr0)\n",
    "            rho0_sub = 10**(np.log10(rho0) + dlogrhodlogr * dlogr0)\n",
    "            P0_sub = 10**(np.log10(P0) + dlogPdlogr * dlogr0)\n",
    "            rhoz0_sub = 10**(np.log10(rhoz0) + dlogrhozdlogr * dlogr0)\n",
    "            \n",
    "            sol_sub = solve_ivp(evolve, [10**(np.log10(r0)+dlogr0), 10**-1.2*r0], [v0_sub,rho0_sub, P0_sub, rhoz0_sub],\n",
    "                events=supersonic, dense_output=True, rtol=1e-12, atol=[1, 1e-7*mp, 1e-2*kb,1e-7*mp])            \n",
    "            \n",
    "        res.add_wind_r(np.append(sol_sub.t[::-1], sol_sup.t[:-1]))\n",
    "        res.add_wind_v(np.append(sol_sub.y[0][::-1],sol_sup.y[0][:-1]))\n",
    "        res.add_wind_rho(np.append(sol_sub.y[1][::-1], sol_sup.y[1][:-1]))\n",
    "        res.add_wind_P(np.append(sol_sub.y[2][::-1], sol_sup.y[2][:-1]))\n",
    "        res.add_wind_rhoz(np.append(sol_sub.y[3][::-1], sol_sup.y[3][:-1]))  \n",
    "\n",
    "        res.add_wind_r(sol_sup.t[-1])\n",
    "        transfer.updateWindParams(sol_sup.y[2][-1], sol_sup.y[0][-1], sol_sup.y[1][-1], sol_sup.y[3][-1])\n",
    "        \n",
    "        \n",
    "    def getDerivatives(self, r, v, rho, P, rhoz, r_sonic, rho_dot, p_dot, epsilon_dot):\n",
    "        gamma = self.gamma\n",
    "        r0 = r_sonic\n",
    "        Mdot_per_Vol = self.Mdot_per_Vol\n",
    "        Edot_per_Vol = self.Edot_per_Vol\n",
    "\n",
    "        if pm['BACK_REACTION'] == 0:\n",
    "            rho_dot = 0\n",
    "            p_dot = 0\n",
    "            epsilon_dot = 0\n",
    "\n",
    "        \n",
    "        c_s_sqr = gamma * P / rho\n",
    "        v_c_sqr = np.where(r<r0, 0, self.v_cir**2)\n",
    "        v_esc_sqr = np.where(r<r0, 0, -2 * v_c_sqr * np.log(r))\n",
    "                \n",
    "        rho_dot = np.where(r<r0, Mdot_per_Vol, rho_dot)\n",
    "        p_dot = np.where(r<r0, 0, p_dot)\n",
    "        epsilon_dot = np.where(r<r0, Edot_per_Vol, epsilon_dot)\n",
    "        rhoz_dot = 0\n",
    "        \n",
    "        Srho = rho_dot\n",
    "        Sv = (p_dot - v * rho_dot) / rho\n",
    "        vB2 = 0.5 * v**2 + c_s_sqr / (gamma-1) -0.5 * v_esc_sqr\n",
    "        Se = (epsilon_dot - (p_dot - v * rho_dot) * v - rho_dot*vB2)/rho \n",
    "        Z = rhoz / rho\n",
    "        \n",
    "        dv_dr = (v/r * (2*c_s_sqr - v_c_sqr) - c_s_sqr*Srho/rho + v*Sv - (gamma-1)*Se) / (v**2-c_s_sqr)\n",
    "        drho_dr = (rho/r*(v_c_sqr-2*v**2) + v*Srho - rho*Sv + (gamma-1)*rho/v*Se) / (v**2-c_s_sqr)\n",
    "        dP_dr = (gamma*P/r*(v_c_sqr-2*v**2) + c_s_sqr*v*Srho - gamma*P*Sv + (gamma-1)*rho*v*Se) / (v**2-c_s_sqr)\n",
    "        drhoz_dr = Z * drho_dr + rhoz_dot / v - Z * rho_dot /v        \n",
    "        return (dv_dr, drho_dr, dP_dr, drhoz_dr)\n",
    "    \n",
    "\n",
    "    def step(self, transfer):\n",
    "        P_wind, v_wind, rho_wind, rhoz_wind = transfer.wind_P, transfer.wind_v, transfer.wind_rho, transfer.wind_rhoz\n",
    "        rho_dot, p_dot, epsilon_dot = transfer.rho_dot, transfer.p_dot, transfer.epsilon_dot\n",
    "        wind_i = control.wind_i\n",
    "        r0 = control.r_schedule[wind_i]\n",
    "        r1 = control.r_schedule[wind_i+1]\n",
    "        r_sonic = control.sonic_point\n",
    "        \n",
    "        \n",
    "        def evolve(r, z):\n",
    "            v,rho,P, rhoz = z\n",
    "            (dv_dr, drho_dr, dP_dr, drhoz_dr) = self.getDerivatives(r, v, rho, P, rhoz, r_sonic, rho_dot, p_dot, epsilon_dot)    \n",
    "            return [dv_dr, drho_dr, dP_dr, drhoz_dr]        \n",
    "\n",
    "        sol_sup = solve_ivp(evolve, [r0, r1], \n",
    "                            [v_wind, rho_wind, P_wind, rhoz_wind], dense_output=True, \n",
    "                            rtol=1e-12, atol=[1, 1e-7*mp, 1e-2*kb, 1e-7*mp])\n",
    "\n",
    "        transfer.updateWindParams(sol_sup.y[2][-1], sol_sup.y[0][-1],sol_sup.y[1][-1], sol_sup.y[3][-1])\n",
    "        \n",
    "        control.wind_i +=1\n",
    "        res.add_wind_r(r1)\n"
   ]
  },
  {
   "cell_type": "code",
   "execution_count": 8,
   "metadata": {},
   "outputs": [],
   "source": [
    "class Cloud:\n",
    "    ncells_v=pm['V_CELLS']\n",
    "    ncells_M=pm['M_CELLS']\n",
    "    ncells_r=pm['R_CELLS']\n",
    "    v_max = pm['V_MAX']\n",
    "    v_min = pm['V_MIN']\n",
    "    v_mu = pm['V_MU']\n",
    "    v_sigma = pm['V_SIGMA']\n",
    "    M_max = pm['M_MAX']\n",
    "    M_min = pm['M_MIN']\n",
    "    M_mu = pm['M_MU']\n",
    "    M_sigma = pm['M_SIGMA']\n",
    "    gamma = pm['GAMMA']\n",
    "    metallicity = pm['CLOUD_METALLICITY']    \n",
    "    T_cloud = pm['CLOUD_TEMP']\n",
    "    f_turb0 = pm['F_TURB0']\n",
    "    Mdot_chi_power = pm['MDOT_CHI_POWER']\n",
    "    rho_source_target = pm['CLOUD_ALPHA'] * pm['SFR']\n",
    "    t_cool_layer = 1  * Myr\n",
    "    retire_mass = pm['RETIREMENT_MASS']\n",
    "    retire_flag = pm['RETIRE_FLAG']\n",
    "\n",
    "    \n",
    "    mu          = 0.62\n",
    "#    metallicity = 10**-0.5\n",
    "    muH         = 1/0.75\n",
    "    \n",
    "    cool = Cooling(pm['COOL_FILE'])\n",
    "    Lambda = cool.Lambda\n",
    "    \n",
    "    \n",
    "    def __init__(self, control, const, pm, res, transfer):\n",
    "        control.cloud_i = 0\n",
    "        curr_r, next_r, dr, dvol = control.get_cloudr_info()\n",
    "        P_wind, v_wind, rho_wind = transfer.wind_P, transfer.wind_v, transfer.wind_rho\n",
    "        r_start = control.r_schedule[0]    \n",
    "        \n",
    "        (self.mf,self.mbin,self.dm, self.mbndry) = Utils.lognormal(self.M_min, \n",
    "                                                            self.M_max, \n",
    "                                                            self.ncells_M, \n",
    "                                                            self.M_mu, \n",
    "                                                            self.M_sigma,\n",
    "                                                            Msun)\n",
    "    \n",
    "        (self.vf,self.vbin,self.dv, self.vbndry)= Utils.normal(self.v_min, \n",
    "                                                         self.v_max, \n",
    "                                                         self.ncells_v, \n",
    "                                                         self.v_mu,\n",
    "                                                         self.v_sigma,\n",
    "                                                         km) \n",
    "\n",
    "        self.integrateDelta = np.tile(self.dm, self.ncells_v) * np.repeat(self.dv, self.ncells_M)\n",
    "        self.M_cloud = np.tile(self.mbin, self.ncells_v)\n",
    "        self.v_cloud = np.repeat(self.vbin, self.ncells_M)\n",
    "        m_left = np.tile(self.mbndry[:-1], self.ncells_v)\n",
    "        m_right = np.tile(self.mbndry[1:], self.ncells_v)\n",
    "        v_left = np.repeat(self.vbndry[:-1], self.ncells_M)\n",
    "        v_right = np.repeat(self.vbndry[1:], self.ncells_M)\n",
    "        \n",
    "        # Switching between 2 faces conservation law and center approximation\n",
    "        self.m_left = np.where(pm['TWO_FACES']==1, m_left, self.M_cloud)\n",
    "        self.m_right = np.where(pm['TWO_FACES']==1, m_right, self.M_cloud)\n",
    "        self.v_left = np.where(pm['TWO_FACES']==1, v_left, self.v_cloud)\n",
    "        self.v_right = np.where(pm['TWO_FACES']==1, v_right, self.v_cloud)\n",
    "\n",
    "\n",
    "        self.indices = [(i,j) for j in range(self.ncells_v) for i in range(self.ncells_M)]                \n",
    "        f_full=np.array([self.mf[item[0]]*self.vf[item[1]] for item in self.indices])        \n",
    "       \n",
    "        self.f = f_full\n",
    "        \n",
    "        # scale to match the total mass input\n",
    "      \n",
    "        (_,_,rho_dot,_,_,_,_,_,_,_,_) = self.dot_cloud(P_wind, v_wind, rho_wind, r_start, dvol, dr)\n",
    "        dot_rho_target_per_vol = self.rho_source_target / (4/3*np.pi*r_start**3)\n",
    "        \n",
    "        m_factor = dot_rho_target_per_vol / sum(rho_dot *self.integrateDelta)    # target number density \n",
    "     \n",
    "        self.f *= np.where(m_factor < 0, -m_factor, m_factor)\n",
    "        transfer.cloudFD_retire = np.column_stack((self.M_cloud, self.v_cloud, f_full))\n",
    "        self.f = np.where(self.M_cloud < self.retire_mass , 0, self.f)\n",
    "        \n",
    "        \n",
    "        res.add_cloud_r(r_start)\n",
    "        res.add_cloud_f(self.f)\n",
    "        \n",
    "    \n",
    "\n",
    "    def bndry_condition(f):\n",
    "        phase=np.reshape(f,(self.ncells_v,self.ncells_M))\n",
    "        for i in range(self.ncells_v):\n",
    "            phase[i,0] = phase[i,1]\n",
    "            phase[i,-1] = phase[i,-2]\n",
    "        return np.array(phase.flatten())        \n",
    "\n",
    "\n",
    "    \n",
    "\n",
    "    \n",
    "    def dot_cloud(self, P, v, rho, r, dvol, dr):\n",
    "   \n",
    "        M_left_dot, v_left_dot, _, _, _ = Utils.dot_cloud_calc( P, v, rho, self.m_left, self.v_left, pm)\n",
    "        M_right_dot, v_right_dot, _, _, _ = Utils.dot_cloud_calc(P, v, rho, self.m_right, self.v_right, pm)        \n",
    "        Mdot, vdot, Mdot_grow, Mdot_loss, rho_cloud = Utils.dot_cloud_calc(P, v, rho, self.M_cloud, self.v_cloud, pm)\n",
    "            \n",
    "        Mdot_over_v = Mdot /self.v_cloud \n",
    "        vdot_over_v = vdot /self.v_cloud \n",
    "\n",
    "        n_cloud = self.f / dvol        \n",
    "        rhodot_grow = Mdot_grow * n_cloud\n",
    "        rhodot_loss = Mdot_loss * n_cloud\n",
    "        rhodot = rhodot_grow + rhodot_loss\n",
    "        pdot = (v * Mdot_grow + self.v_cloud * Mdot_loss) * n_cloud\n",
    "        vB_2 = 0.5 * v**2 + self.gamma / (self.gamma - 1) * P / rho   # leave out escape velocity\n",
    "        vB_cloud_2 = 0.5 * self.v_cloud**2 + self.gamma / (self.gamma - 1) * P / rho_cloud\n",
    "        epsilondot = (vB_2 * Mdot_grow + vB_cloud_2 * Mdot_loss) * n_cloud\n",
    "        return Mdot_over_v, vdot_over_v, rhodot, pdot, epsilondot,\\\n",
    "                M_left_dot, M_right_dot, v_left_dot, v_right_dot, rhodot_grow, rhodot_loss   \n",
    "    \n",
    "    \n",
    "\n",
    "    def upwind(self, dot, dr, control):\n",
    "        \n",
    "        (mdot_over_v, vdot_over_v, _, _, _, M_left_dot,M_right_dot, v_left_dot, v_right_dot,_,_) = dot\n",
    "        dm = np.tile(self.dm, cloud.ncells_v)\n",
    "        dv = np.repeat(self.dv, cloud.ncells_M)   \n",
    "        \n",
    "        v_cloud = np.repeat(self.vbin, self.ncells_M)\n",
    "#        v_pre = v_cloud - 0.5 * vdot_over_v * dr\n",
    "#        v_next = v_cloud + 0.5 * vdot_over_v * dr\n",
    "        v_pre = v_cloud \n",
    "        v_next = v_cloud + vdot_over_v * dr\n",
    "        \n",
    "        K = dr / dm / v_pre\n",
    "        L = dr / dv / v_pre\n",
    "\n",
    "        M11 = np.where(M_right_dot >=0, M_right_dot * K, 0)\n",
    "        Fij = np.where(M_right_dot < 0, M_right_dot * K, 0)\n",
    "        Eij = np.where(M_left_dot >= 0, M_left_dot * -K, 0)\n",
    "        M00 = np.where(M_left_dot < 0, M_left_dot * K, 0)\n",
    "        v11 = np.where(v_right_dot >=0, v_right_dot * L,0)\n",
    "        Hij = np.where(v_right_dot <0, v_right_dot * L,0)\n",
    "        Gij = np.where(v_left_dot >=0, v_left_dot * -L, 0)\n",
    "        v00 = np.where(v_left_dot < 0, v_left_dot * L, 0)\n",
    "             \n",
    "        control.cfl_m0.append(0.5 * (np.abs(Eij) + np.abs(M00)))\n",
    "        control.cfl_m1.append(0.5 * (np.abs(M11) + np.abs(Fij)))\n",
    "        control.cfl_v0.append(0.5 * (np.abs(Gij) + np.abs(v00)))\n",
    "        control.cfl_v1.append(0.5 * (np.abs(v11) + np.abs(Hij)))\n",
    "\n",
    "\n",
    "        M_pos_band = Fij\n",
    "        M_neg_band = Eij\n",
    "        v_pos_band = Hij\n",
    "        v_neg_band = Gij\n",
    "\n",
    "        # zero out location to avoid wrapping around \n",
    "        M_neg_band = np.array([np.where(i%self.ncells_M==0, 0, M_neg_band[i]) for i in range(len(M_neg_band))]) \n",
    "        M_pos_band = np.concatenate([[0],M_pos_band])\n",
    "        M_pos_band = np.array([np.where(i%self.ncells_M==0, 0, M_pos_band[i]) for i in range(len(M_pos_band))]) \n",
    "        M_pos_band = M_pos_band[1:]\n",
    "        \n",
    "        diagonal = v_next/v_pre + M11 - M00 + v11 - v00        \n",
    "\n",
    "        v_pos_band = v_pos_band[:-self.ncells_M]\n",
    "        M_pos_band = M_pos_band[:-1]\n",
    "        M_neg_band = M_neg_band[1:]\n",
    "        v_neg_band = v_neg_band[self.ncells_M:]        \n",
    "        \n",
    "        return diags([v_pos_band, M_pos_band, diagonal, M_neg_band, v_neg_band],[self.ncells_M, 1, 0,-1,-self.ncells_M])\n",
    "    \n",
    "    \n",
    "    \n",
    "    \n",
    "\n",
    "    def step(self, transfer):\n",
    "        r_curr, r_next, dr, dvol = control.get_cloudr_info()\n",
    "        P_wind, v_wind, rho_wind = transfer.wind_P, transfer.wind_v, transfer.wind_rho\n",
    "        if P_wind < 0: sys.exit('Negative Pressure')\n",
    "        if rho_wind < 0: sys.exit('Negative Mass Density')\n",
    "        dot = self.dot_cloud(P_wind, v_wind, rho_wind, r_curr, dvol, dr) \n",
    "#        (self.Mdot_over_v,self.vdot_over_v, rho_dot, p_dot, epsilon_dot,_,_,_,_,rhodot_grow, rhodot_loss) = dot\n",
    "#        (Mdot_over_v,vdot_over_v, rho_dot, p_dot, epsilon_dot,_,_,_,_,rhodot_grow, rhodot_loss) = dot\n",
    "    \n",
    "    \n",
    "        (_,_,Mdot_grow,Mdot_loss,rho_clouds) = Utils.dot_cloud_calc(P_wind, v_wind, rho_wind, self.M_cloud, self.v_cloud, pm) \n",
    "        aux_params = (dr, dvol, gamma, self.retire_mass, self.retire_flag)    \n",
    "        \n",
    "#        self.wind_rhoz_dot = -(sum(rhodot_grow * self.integrateDelta) * self.metallicity + \\\n",
    "#                               sum(rhodot_loss * self.integrateDelta) * wind.metallicity)\n",
    "        \n",
    "        \n",
    "        transfer.updateSourceFD(Mdot_grow, Mdot_loss, rho_clouds, self.integrateDelta, aux_params)\n",
    "        \n",
    "        \n",
    "        self.upwind_mtrx = self.upwind(dot, dr, control)\n",
    "        new_f = spsolve(self.upwind_mtrx,self.f)\n",
    "\n",
    "        transfer.cloudFD_retire = np.column_stack((self.M_cloud, self.v_cloud, new_f))\n",
    "        new_f = np.where(self.M_cloud < self.retire_mass, 0, new_f)\n",
    "        \n",
    "        # correction of number flux\n",
    "        new_integrand = new_f * np.repeat(self.vbin, self.ncells_M)\n",
    "        new_Nflux = sum(new_integrand * self.integrateDelta)\n",
    "        integrand = self.f * np.repeat(self.vbin, self.ncells_M)\n",
    "        target_Nflux = sum(integrand * self.integrateDelta)\n",
    "        factor = np.where(pm['FLUX_CORRECTION'] == 1, target_Nflux / new_Nflux, 1) \n",
    "\n",
    "\n",
    "        self.f = new_f * factor\n",
    "        res.add_cloud_f(self.f)\n",
    "        res.add_cloud_r(r_next)\n",
    "        control.cloud_i +=1\n",
    "    \n",
    "        "
   ]
  },
  {
   "cell_type": "code",
   "execution_count": 9,
   "metadata": {},
   "outputs": [],
   "source": [
    "class CloudMC:\n",
    "    ncells_v=pm['V_CELLS']\n",
    "    ncells_M=pm['M_CELLS']\n",
    "    ncells_r=pm['R_CELLS']\n",
    "    nbs_cloud = pm['NBS_CLOUD']\n",
    "    v_max = pm['V_MAX']\n",
    "    v_min = pm['V_MIN']\n",
    "    v_mu = pm['V_MU']\n",
    "    v_sigma = pm['V_SIGMA']\n",
    "    M_max = pm['M_MAX']\n",
    "    M_min = pm['M_MIN']\n",
    "    M_mu = pm['M_MU']\n",
    "    M_sigma = pm['M_SIGMA']\n",
    "    gamma = pm['GAMMA']\n",
    "    metallicity = pm['CLOUD_METALLICITY']    \n",
    "    T_cloud = pm['CLOUD_TEMP']\n",
    "    f_turb0 = pm['F_TURB0']\n",
    "    Mdot_chi_power = pm['MDOT_CHI_POWER']\n",
    "    rho_source_target = pm['CLOUD_ALPHA'] * pm['SFR']\n",
    "    retire_mass = pm['RETIREMENT_MASS']\n",
    "    retire_flag = pm['RETIRE_FLAG']\n",
    "    CFL_MC = pm['CFL_MC']\n",
    "    t_cool_layer = 1  * Myr\n",
    "\n",
    "    mu          = 0.62\n",
    "#    metallicity = 10**-0.5\n",
    "    muH         = 1/0.75\n",
    "    \n",
    "    cool = Cooling(pm['COOL_FILE'])\n",
    "    Lambda = cool.Lambda\n",
    "    \n",
    "    \n",
    "    def __init__(self, control, const, pm, res, transfer):\n",
    "        control.cloud_i = 0\n",
    "        curr_r, next_r, dr, dvol = control.get_cloudr_info()\n",
    "        P_wind, v_wind, rho_wind = transfer.wind_P, transfer.wind_v, transfer.wind_rho\n",
    "        r_start = control.r_schedule[0]    \n",
    "                \n",
    "        # Clouds generation\n",
    "        (_,self.vbndry,_) = Utils.genGrid(self.v_min, self.v_max,self.ncells_v, False, const.km)\n",
    "        v_dist = Utils.gen_normal_dist(self.nbs_cloud, self.v_mu, self.v_sigma, const.km)\n",
    "\n",
    "        # lognormal\n",
    "        (_,self.mbndry,_) = Utils.genGrid(self.M_min, self.M_max,self.ncells_M, True, const.Msun)\n",
    "        M_dist = Utils.gen_lognormal_dist(self.nbs_cloud, self.M_mu, self.M_sigma, const.Msun)\n",
    "        \n",
    "        # number of clouds\n",
    "        N_dist0 = np.array([1]*self.nbs_cloud)\n",
    "\n",
    "        cloud_live, cloud_retire = Utils.retireCloud(M_dist, v_dist, N_dist0, self.retire_mass)\n",
    "        self.retiredCloud = cloud_retire\n",
    "        transfer.cloudMC_retire = cloud_retire    \n",
    "        \n",
    "        M_cloud = cloud_live[:,0]\n",
    "        v_cloud = cloud_live[:,1]\n",
    "        N_cloud = cloud_live[:,2]\n",
    "            \n",
    "        # Calibration for number of clouds\n",
    "        (Mdot,vdot,_,_,_) = Utils.dot_cloud_calc(P_wind, v_wind, rho_wind, M_cloud, v_cloud, pm)\n",
    "#        control.current_dr = Utils.getdr_MC(self.CFL_MC, M_cloud, v_cloud, Mdot)\n",
    "        \n",
    "        rho_dot = N_cloud * Mdot / dvol\n",
    "        dot_rho_target_per_vol = self.rho_source_target / (4/3*np.pi*r_start**3)\n",
    "        n_factor = abs(dot_rho_target_per_vol / sum(rho_dot))\n",
    "        N_cloud = n_factor * N_cloud\n",
    "        \n",
    "        \n",
    "        # generate cloud\n",
    "        self.clouds = np.column_stack((M_cloud, v_cloud, N_cloud))\n",
    "        \n",
    "        \n",
    "        res.add_clouds(self.clouds)\n",
    "        res.add_cloud_r(r_start)\n",
    "        return\n",
    "                                   \n",
    "\n",
    "    def step(self, transfer):\n",
    "\n",
    "        r_curr, r_next, dr, dvol = control.get_cloudr_info()\n",
    "        P_wind, v_wind, rho_wind = transfer.wind_P, transfer.wind_v, transfer.wind_rho\n",
    "\n",
    "        if P_wind < 0: sys.exit('Negative Pressure')\n",
    "        if rho_wind < 0: sys.exit('Negative Mass Density')\n",
    "\n",
    "            \n",
    "        M_clouds = self.clouds[:,0]\n",
    "        v_clouds = self.clouds[:,1]\n",
    "        N_clouds = self.clouds[:,2]\n",
    "\n",
    "        \n",
    "        \n",
    "        (Mdot,vdot,Mdot_grow,Mdot_loss,rho_clouds) = Utils.dot_cloud_calc(P_wind, v_wind, rho_wind, M_clouds, v_clouds, pm) \n",
    "\n",
    "#        dr = Utils.getdr_MC(self.CFL_MC, M_clouds, v_clouds, Mdot)\n",
    "#        r_curr, r_next, dvol = control.get_r_info(dr)\n",
    "#        print(r_curr / const.pc)  \n",
    "        \n",
    "        \n",
    "        aux_params = (dr, dvol, gamma, self.retire_mass, self.retire_flag)\n",
    "\n",
    "        transfer.updateSourceMC(Mdot_grow, Mdot_loss, self.clouds, rho_clouds, aux_params)\n",
    "            \n",
    "        M_clouds_next = M_clouds + Mdot * dr / v_clouds\n",
    "        v_clouds_next = v_clouds + vdot * dr / v_clouds\n",
    "        N_clouds_next = N_clouds * v_clouds / v_clouds_next     \n",
    "\n",
    "        \n",
    "        \n",
    "        cloud_live, cloud_retire = Utils.retireCloud(M_clouds_next, v_clouds_next, N_clouds_next, self.retire_mass)\n",
    "        self.clouds = cloud_live\n",
    "        transfer.cloudMC_retire = cloud_retire    \n",
    "        \n",
    "        res.add_clouds(self.clouds)\n",
    "        res.add_cloud_r(r_next)\n",
    "        control.cloud_i +=1\n",
    "        return\n",
    "    \n",
    "        "
   ]
  },
  {
   "cell_type": "code",
   "execution_count": 10,
   "metadata": {},
   "outputs": [],
   "source": [
    "class Result:\n",
    "    def __init__(self, const, pm):\n",
    "        self.wind_r = []\n",
    "        self.cloud_r = []\n",
    "        self.wind_v = []\n",
    "        self.wind_rho = []\n",
    "        self.wind_P = []\n",
    "        self.wind_rhoz = []\n",
    "        self.cloud_f = []\n",
    "        self.wind_rho_dot = []\n",
    "        self.wind_p_dot = []\n",
    "        self.wind_epsilon_dot = []\n",
    "        self.clouds = []\n",
    "        \n",
    "    def add_wind_rho_dot(self, rho_dot):\n",
    "        self.wind_rho_dot = np.append(self.wind_rho_dot, rho_dot)\n",
    "\n",
    "    def add_wind_p_dot(self, p_dot):\n",
    "        self.wind_p_dot = np.append(self.wind_p_dot, p_dot)\n",
    "        \n",
    "    def add_wind_epsilon_dot(self, epsilon_dot):\n",
    "        self.wind_epsilon_dot = np.append(self.wind_epsilon_dot, epsilon_dot)        \n",
    "        \n",
    "        \n",
    "    def add_wind_r(self, r):\n",
    "        self.wind_r = np.append(self.wind_r, r)\n",
    "\n",
    "    def add_cloud_r(self, r): \n",
    "        self.cloud_r = np.append(self.cloud_r, r)\n",
    "            \n",
    "    def add_wind_v(self, v):\n",
    "        self.wind_v = np.append(self.wind_v, v)\n",
    "        \n",
    "    def add_wind_rho(self, rho):\n",
    "        self.wind_rho = np.append(self.wind_rho, rho)\n",
    "\n",
    "    def add_wind_P(self, P):\n",
    "        self.wind_P = np.append(self.wind_P, P)\n",
    "\n",
    "    def add_wind_rhoz(self, P):\n",
    "        self.wind_rhoz = np.append(self.wind_rhoz, P)        \n",
    "        \n",
    "    def add_cloud_f(self, f):\n",
    "        self.cloud_f.append(f)\n",
    "\n",
    "    def add_clouds(self, clouds):\n",
    "        self.clouds.append(clouds)\n",
    "        \n",
    "    def plot_wind(self):\n",
    "        R=pm['SONIC_POINT']\n",
    "        r=self.wind_r\n",
    "        u_star = self.wind_v/(pm['MDOT']**-0.5 * pm['EDOT']**0.5)\n",
    "        rho_star = self.wind_rho/(pm['MDOT']**1.5 * pm['EDOT']**-0.5 * R**-2)\n",
    "        P_star = self.wind_P/(pm['MDOT']**0.5 * pm['EDOT']**0.5 * R**-2)\n",
    "        plt.figure(figsize=(6,6))\n",
    "        plt.plot(np.log(r/R),np.log(u_star), label='Nomalized velocity')\n",
    "        plt.plot(np.log(r/R),np.log(rho_star), label = 'Normalized density')\n",
    "        plt.plot(np.log(r/R),np.log(P_star), label = 'Normalized pressure')\n",
    "        plt.legend()\n",
    "        plt.title('Numerical Solutions for Hot Wind')\n",
    "        \n",
    "    def plot_cloud(self, i_arr, cloud):\n",
    "        plt.figure(figsize=(6,6))\n",
    "        for i in i_arr:\n",
    "            f=self.cloud_f[i]\n",
    "            phase = np.reshape(f,(cloud.ncells_v,cloud.ncells_M))\n",
    "            plt.pcolormesh(np.log10(cloud.mbin/const.Msun),cloud.vbin/const.km,phase, cmap=palettable.scientific.sequential.Oslo_20_r.mpl_colormap)\n",
    "        plt.xlabel(r'$\\log M_{\\rm cloud}\\, [M_\\odot]$')\n",
    "        plt.ylabel(r'$v_{\\rm cloud}\\, [{\\rm km/s}]$')\n",
    "        plt.xlim((cloud.M_min,cloud.M_max))\n",
    "        plt.ylim((cloud.v_min,cloud.v_max))\n",
    "\n",
    "    def plot_cloud1(self, i, cloud):\n",
    "        plt.figure(figsize=(6,6))        \n",
    "        f=self.cloud_f[i]\n",
    "        phase = np.reshape(f,(cloud.ncells_v,cloud.ncells_M))\n",
    "\n",
    "\n",
    "        plt.pcolormesh(cloud.mbin/const.Msun,cloud.vbin/const.km,phase, cmap=palettable.scientific.sequential.Oslo_20_r.mpl_colormap)\n",
    "        plt.xlabel(r'$\\log M_{\\rm cloud}\\, [M_\\odot]$')\n",
    "        plt.ylabel(r'$v_{\\rm cloud}\\, [{\\rm km/s}]$')\n",
    "        plt.xlim((cloud.M_min,cloud.M_max))\n",
    "        plt.ylim((cloud.v_min,cloud.v_max))\n",
    "        \n",
    "\n",
    "    def plot_mass(self, i_arr, cloud):\n",
    "        plt.figure(figsize=(6,6))\n",
    "        norm = np.reshape(self.cloud_f[0],(cloud.ncells_v,cloud.ncells_M)).sum(axis=0).max()        \n",
    "        for i in i_arr:\n",
    "            f=self.cloud_f[i]\n",
    "            phase = np.reshape(f,(cloud.ncells_v,cloud.ncells_M))        \n",
    "            m = phase.sum(axis=0)\n",
    "            plt.plot(np.log10(cloud.mbin/const.Msun), m/norm, label = 'mass PDF for r='+str(i))\n",
    "        plt.xlabel(r'$\\log M_{\\rm cloud}\\, [M_\\odot]$')\n",
    "        plt.ylabel(r'Normalized Number Density')\n",
    "        plt.xlim(cloud.M_min, cloud.M_max)\n",
    "        plt.legend()\n",
    "        \n",
    "    def plot_NFlux(self, i_arr, cloud):\n",
    "        plt.figure(figsize=(6,6))\n",
    "        for i in i_arr:\n",
    "            f=self.cloud_f[i] * np.repeat(cloud.vbin, cloud.ncells_M) * 4 * np.pi * self.cloud_r[i]**2\n",
    "            phase = np.reshape(f,(cloud.ncells_v,cloud.ncells_M))        \n",
    "            m = phase.sum(axis=0)\n",
    "            plt.plot((cloud.mbin * cloud.vbin) / const.Msun / const.km, m, label = 'mass PDF for r='+str(i))\n",
    "        plt.xlabel(r'$\\log M_{\\rm cloud}\\, [M_\\odot]$')\n",
    "        plt.ylabel(r'Normalized Number Density')\n",
    "#        plt.xlim(cloud.M_min, cloud.M_max)\n",
    "        plt.legend()\n",
    "        \n",
    "        \n",
    "    def plot_velocity(self, i_arr, cloud):\n",
    "        plt.figure(figsize=(6,6))\n",
    "        norm = np.reshape(self.cloud_f[0],(cloud.ncells_v,cloud.ncells_M)).sum(axis=1).max()   \n",
    "        for i in i_arr:\n",
    "            f=self.cloud_f[i]\n",
    "            phase = np.reshape(f,(cloud.ncells_v,cloud.ncells_M))           \n",
    "            v= phase.sum(axis =1)\n",
    "            plt.plot(cloud.vbin/km, v/norm, label = 'velocity PDF for r='+str(i))\n",
    "        plt.xlabel(r'$v_{\\rm cloud}\\, [{\\rm km/s}]$')\n",
    "        plt.ylabel(r'Normalized Number Density')\n",
    "        plt.legend()\n",
    "        \n",
    "    def integrateNFlux(self, i_arr, cloud):\n",
    "        flux=[]\n",
    "        for i in i_arr:\n",
    "            f = self.cloud_f[i]\n",
    "            r = self.cloud_r[i]\n",
    "#            integrand = f * np.repeat(cloud.vbin, cloud.ncells_M) * 4 * np.pi * r**2\n",
    "###############\n",
    "            integrand = f * np.repeat(cloud.vbin, cloud.ncells_M)\n",
    "#            integrand = f \n",
    "###############    \n",
    "    \n",
    "            flux.append(sum(integrand * cloud.integrateDelta) )\n",
    "        return flux   \n",
    "    \n",
    "    \n",
    "    def save_grid(self, filename, f, cloud):\n",
    "        phase = np.reshape(f,(cloud.ncells_v,cloud.ncells_M))\n",
    "        phase = np.flip(phase, axis = 0)\n",
    "        header = ','.join([str(elem) for elem in range(cloud.ncells_M)])\n",
    "        np.savetxt(filename, phase, comments=\"\", delimiter=\",\", fmt=\"%.1e\", header=header)        \n",
    "        return     \n",
    "    \n",
    "    def plot_density(self, i, res, cloud):\n",
    "        v_bins = cloud.vbndry\n",
    "        M_bins = cloud.mbndry\n",
    "        clouds = self.clouds[i]\n",
    "        nbs_vbin= len(v_bins)\n",
    "        nbs_Mbin= len(M_bins)\n",
    "        f=np.reshape(np.zeros(nbs_vbin * nbs_Mbin),(nbs_vbin,nbs_Mbin))\n",
    "        v_min = v_bins[0]\n",
    "        v_max = v_bins[nbs_vbin-1]\n",
    "        M_min = M_bins[0]\n",
    "        M_max = M_bins[nbs_Mbin-1]\n",
    "        for item in clouds:\n",
    "            if (item[1]>=v_min) and (item[1]<=v_max) and (item[0]>=M_min) and (item[0]<=M_max):\n",
    "                v_idx = np.max(np.where(v_bins <= item[1]))\n",
    "                M_idx = np.max(np.where(M_bins <= item[0]))\n",
    "                f[v_idx][M_idx]+=item[2]\n",
    "        plt.figure(figsize=(6,6))\n",
    "        plt.pcolormesh((M_bins/Msun),v_bins/const.km, np.abs(f),cmap=palettable.scientific.sequential.Oslo_20_r.mpl_colormap)\n",
    "        plt.xscale('log')\n",
    "        plt.title(\"Density of cloud mass vs cloud velocity\")\n",
    "        return    \n",
    "    "
   ]
  },
  {
   "cell_type": "code",
   "execution_count": 14,
   "metadata": {},
   "outputs": [
    {
     "name": "stderr",
     "output_type": "stream",
     "text": [
      "/Library/Frameworks/Python.framework/Versions/3.7/lib/python3.7/site-packages/scipy/sparse/linalg/dsolve/linsolve.py:145: SparseEfficiencyWarning: spsolve requires A be CSC or CSR matrix format\n",
      "  SparseEfficiencyWarning)\n"
     ]
    },
    {
     "name": "stdout",
     "output_type": "stream",
     "text": [
      "0\n",
      "20\n",
      "40\n",
      "60\n",
      "80\n",
      "100\n",
      "120\n",
      "140\n"
     ]
    }
   ],
   "source": [
    "const = Const()\n",
    "pm = Param(\"Inputs\", const).paramDict\n",
    "control = EvolveControl(const, pm)\n",
    "MC=0\n",
    "\n",
    "res = Result(const, pm)\n",
    "transfer = Transfer(const, pm)\n",
    "wind = Wind(control, const, pm, res, transfer)\n",
    "if (MC == 1):\n",
    "    cloud = CloudMC(control, const, pm, res, transfer)\n",
    "else:\n",
    "    cloud = Cloud(control, const, pm, res, transfer)    \n",
    "\n",
    "\n",
    "\n",
    "steps= len(control.r_schedule)-1\n",
    "\n",
    "for i_time in range(steps):\n",
    "    cloud.step(transfer)\n",
    "    wind.step(transfer)    \n",
    "    if i_time % 20 == 0:\n",
    "        print(i_time)\n",
    "#    print(i_time)\n",
    "        \n",
    "#res.plot_cloud(steps-1, cloud, const)"
   ]
  },
  {
   "cell_type": "code",
   "execution_count": 12,
   "metadata": {},
   "outputs": [
    {
     "data": {
      "image/png": "[encoded data removed]",
      "text/plain": [
       "<Figure size 432x432 with 1 Axes>"
      ]
     },
     "metadata": {
      "needs_background": "light"
     },
     "output_type": "display_data"
    }
   ],
   "source": [
    "res.plot_density(steps, res, cloud)"
   ]
  },
  {
   "cell_type": "code",
   "execution_count": 13,
   "metadata": {},
   "outputs": [
    {
     "data": {
      "text/plain": [
       "([2114222216.8634143, 793833083.7139807], 0.3754728700617306)"
      ]
     },
     "execution_count": 13,
     "metadata": {},
     "output_type": "execute_result"
    }
   ],
   "source": [
    "x=res.integrateNFlux([0,steps],cloud)\n",
    "x,x[1]/x[0]"
   ]
  },
  {
   "cell_type": "code",
   "execution_count": 13,
   "metadata": {},
   "outputs": [
    {
     "data": {
      "image/png": "[encoded data removed]",
      "text/plain": [
       "<Figure size 432x432 with 1 Axes>"
      ]
     },
     "metadata": {
      "needs_background": "light"
     },
     "output_type": "display_data"
    }
   ],
   "source": [
    "res.plot_wind()"
   ]
  },
  {
   "cell_type": "code",
   "execution_count": 16,
   "metadata": {},
   "outputs": [
    {
     "data": {
      "image/png": "[encoded data removed]",
      "text/plain": [
       "<Figure size 432x432 with 1 Axes>"
      ]
     },
     "metadata": {
      "needs_background": "light"
     },
     "output_type": "display_data"
    }
   ],
   "source": [
    "res.plot_cloud([0,steps], cloud)"
   ]
  },
  {
   "cell_type": "code",
   "execution_count": 248,
   "metadata": {},
   "outputs": [
    {
     "data": {
      "image/png": "[encoded data removed]",
      "text/plain": [
       "<Figure size 432x432 with 1 Axes>"
      ]
     },
     "metadata": {
      "needs_background": "light"
     },
     "output_type": "display_data"
    }
   ],
   "source": [
    "res.plot_mass([0,steps-1], cloud)"
   ]
  },
  {
   "cell_type": "code",
   "execution_count": null,
   "metadata": {},
   "outputs": [],
   "source": [
    "res.plot_velocity([0,steps], cloud)\n"
   ]
  },
  {
   "cell_type": "code",
   "execution_count": null,
   "metadata": {},
   "outputs": [],
   "source": [
    "res.plot_cloud([steps], cloud)"
   ]
  },
  {
   "cell_type": "code",
   "execution_count": null,
   "metadata": {},
   "outputs": [],
   "source": [
    "res.plot_cloud([1], cloud)"
   ]
  },
  {
   "cell_type": "code",
   "execution_count": null,
   "metadata": {},
   "outputs": [],
   "source": [
    "filename = \"phase_space.csv\"\n",
    "f = res.cloud_f[1]\n",
    "res.save_grid(filename,f, cloud)"
   ]
  },
  {
   "cell_type": "code",
   "execution_count": null,
   "metadata": {},
   "outputs": [],
   "source": [
    "filename = \"cloud_mass.csv\"\n",
    "f = cloud.M_cloud\n",
    "res.save_grid(filename, f, cloud)"
   ]
  },
  {
   "cell_type": "code",
   "execution_count": null,
   "metadata": {},
   "outputs": [],
   "source": [
    "filename = \"Mdot_over_v.csv\"\n",
    "f = cloud.Mdot_over_v\n",
    "res.save_grid(filename, f, cloud)"
   ]
  },
  {
   "cell_type": "code",
   "execution_count": null,
   "metadata": {},
   "outputs": [],
   "source": [
    "filename = \"vdot_over_v.csv\"\n",
    "f = cloud.vdot_over_v\n",
    "res.save_grid(filename, f, cloud)"
   ]
  },
  {
   "cell_type": "code",
   "execution_count": null,
   "metadata": {},
   "outputs": [],
   "source": [
    "filename = \"M_left.csv\"\n",
    "f = cloud.m_left\n",
    "res.save_grid(filename, f, cloud)"
   ]
  },
  {
   "cell_type": "code",
   "execution_count": null,
   "metadata": {},
   "outputs": [],
   "source": [
    "filename = \"M_right.csv\"\n",
    "f = cloud.m_right\n",
    "res.save_grid(filename, f, cloud)"
   ]
  },
  {
   "cell_type": "code",
   "execution_count": null,
   "metadata": {},
   "outputs": [],
   "source": [
    "filename = \"CFL_m0.csv\"\n",
    "f = control.cfl_m0[0]\n",
    "res.save_grid(filename, f, cloud)"
   ]
  },
  {
   "cell_type": "code",
   "execution_count": null,
   "metadata": {},
   "outputs": [],
   "source": [
    "filename = \"CFL_m1.csv\"\n",
    "f = control.cfl_m1[0]\n",
    "res.save_grid(filename, f, cloud)"
   ]
  },
  {
   "cell_type": "code",
   "execution_count": null,
   "metadata": {},
   "outputs": [],
   "source": [
    "filename = \"CFL_v0.csv\"\n",
    "f = control.cfl_v0[0]\n",
    "res.save_grid(filename, f, cloud)"
   ]
  },
  {
   "cell_type": "code",
   "execution_count": null,
   "metadata": {},
   "outputs": [],
   "source": [
    "filename = \"CFL_v1.csv\"\n",
    "f = control.cfl_v1[0]\n",
    "res.save_grid(filename, f, cloud)"
   ]
  },
  {
   "cell_type": "code",
   "execution_count": null,
   "metadata": {},
   "outputs": [],
   "source": [
    "const = Const()\n",
    "pm = Param(\"Inputs\", const).paramDict\n",
    "control = EvolveControl(const, pm)\n",
    "\n",
    "\n",
    "res = Result(const, pm)\n",
    "wind = Wind(control, const, pm, res)\n",
    "cloud = CloudMC(wind, control, const, pm, res)\n",
    "# cloud = Cloud(wind, control, const, pm, res)\n"
   ]
  },
  {
   "cell_type": "code",
   "execution_count": null,
   "metadata": {},
   "outputs": [],
   "source": []
  },
  {
   "cell_type": "code",
   "execution_count": null,
   "metadata": {},
   "outputs": [],
   "source": [
    "rhoz = res.wind_rhoz\n",
    "r = res.wind_r\n",
    "rhoz[0]\n",
    "res.wind_rhoz[-1], res.wind_rho[-1]"
   ]
  },
  {
   "cell_type": "code",
   "execution_count": null,
   "metadata": {},
   "outputs": [],
   "source": [
    "plt.plot(r,rhoz)"
   ]
  },
  {
   "cell_type": "code",
   "execution_count": null,
   "metadata": {},
   "outputs": [],
   "source": [
    "pm['CLOUD_METALLICITY']"
   ]
  },
  {
   "cell_type": "code",
   "execution_count": null,
   "metadata": {},
   "outputs": [],
   "source": [
    "pm['V_MU']"
   ]
  },
  {
   "cell_type": "code",
   "execution_count": null,
   "metadata": {},
   "outputs": [],
   "source": [
    "wind.metallicity"
   ]
  },
  {
   "cell_type": "raw",
   "metadata": {},
   "source": [
    "        def evolve(t,z):\n",
    "            M_cloud, v_cloud = z\n",
    "            dot = Utils.dot_cloud_calc(P_wind, v_wind, rho_wind, M_cloud, v_cloud, pm)\n",
    "            return [dot[0]/v_cloud, dot[1]/v_cloud]      \n",
    "\n",
    "        M_clouds_next = np.empty(0)\n",
    "        v_clouds_next = np.empty(0)\n",
    "        N_clouds_next = np.empty(0)\n",
    "        for cloud in self.clouds: \n",
    "            sol = solve_ivp(evolve, [r_curr, r_next], \n",
    "                            [cloud[0],cloud[1]], dense_output=True, rtol=1e-4)\n",
    "            M_clouds_next = np.append(M_clouds_next,sol.y[0][-1])\n",
    "            v_clouds_next = np.append(v_clouds_next,sol.y[1][-1])\n",
    "            N_clouds_next = np.append(N_clouds_next, cloud[2]*cloud[1]/sol.y[1][-1])"
   ]
  },
  {
   "cell_type": "code",
   "execution_count": null,
   "metadata": {},
   "outputs": [],
   "source": [
    "res.wind_rho_dot[400], res.wind_p_dot[0], res.wind_epsilon_dot[0]"
   ]
  },
  {
   "cell_type": "code",
   "execution_count": null,
   "metadata": {},
   "outputs": [],
   "source": [
    "res.wind_rho[-1]"
   ]
  },
  {
   "cell_type": "code",
   "execution_count": null,
   "metadata": {},
   "outputs": [],
   "source": [
    "res.wind_P[-1]"
   ]
  },
  {
   "cell_type": "code",
   "execution_count": null,
   "metadata": {},
   "outputs": [],
   "source": [
    "res.clouds[-1]"
   ]
  },
  {
   "cell_type": "code",
   "execution_count": null,
   "metadata": {},
   "outputs": [],
   "source": [
    "sum(res.clouds[10][:,1] * res.clouds[10][:,2])"
   ]
  },
  {
   "cell_type": "code",
   "execution_count": null,
   "metadata": {},
   "outputs": [],
   "source": [
    "sum(res.clouds[10][:,1] * res.clouds[10][:,2])"
   ]
  },
  {
   "cell_type": "code",
   "execution_count": null,
   "metadata": {},
   "outputs": [],
   "source": [
    "sum(res.clouds[-1][:,1] * res.clouds[-1][:,2])"
   ]
  },
  {
   "cell_type": "code",
   "execution_count": null,
   "metadata": {},
   "outputs": [],
   "source": [
    "res.clouds[0][:1][0]"
   ]
  },
  {
   "cell_type": "code",
   "execution_count": null,
   "metadata": {},
   "outputs": [],
   "source": [
    "a = res.clouds[1600][:,0]/const.Msun\n",
    "min(a)"
   ]
  },
  {
   "cell_type": "code",
   "execution_count": 350,
   "metadata": {},
   "outputs": [
    {
     "ename": "AttributeError",
     "evalue": "'Cloud' object has no attribute 'retiredCloud'",
     "output_type": "error",
     "traceback": [
      "\u001b[0;31m---------------------------------------------------------------------------\u001b[0m",
      "\u001b[0;31mAttributeError\u001b[0m                            Traceback (most recent call last)",
      "\u001b[0;32m<ipython-input-350-7a2cfb5eb566>\u001b[0m in \u001b[0;36m<module>\u001b[0;34m\u001b[0m\n\u001b[0;32m----> 1\u001b[0;31m \u001b[0mcloud\u001b[0m\u001b[0;34m.\u001b[0m\u001b[0mretiredCloud\u001b[0m\u001b[0;34m\u001b[0m\u001b[0;34m\u001b[0m\u001b[0m\n\u001b[0m",
      "\u001b[0;31mAttributeError\u001b[0m: 'Cloud' object has no attribute 'retiredCloud'"
     ]
    }
   ],
   "source": [
    "cloud.retiredCloud"
   ]
  },
  {
   "cell_type": "code",
   "execution_count": 391,
   "metadata": {},
   "outputs": [
    {
     "data": {
      "text/plain": [
       "13.78638070975747"
      ]
     },
     "execution_count": 391,
     "metadata": {},
     "output_type": "execute_result"
    }
   ],
   "source": [
    "min(abs(cloud.dr_M / const.pc))"
   ]
  },
  {
   "cell_type": "code",
   "execution_count": 392,
   "metadata": {},
   "outputs": [
    {
     "data": {
      "text/plain": [
       "4.275299220118284"
      ]
     },
     "execution_count": 392,
     "metadata": {},
     "output_type": "execute_result"
    }
   ],
   "source": [
    "min(abs(cloud.dr_v / const.pc))"
   ]
  },
  {
   "cell_type": "code",
   "execution_count": 432,
   "metadata": {},
   "outputs": [
    {
     "data": {
      "text/plain": [
       "161"
      ]
     },
     "execution_count": 432,
     "metadata": {},
     "output_type": "execute_result"
    }
   ],
   "source": [
    "len(res.clouds)"
   ]
  },
  {
   "cell_type": "code",
   "execution_count": 51,
   "metadata": {},
   "outputs": [],
   "source": [
    "def getCloudSource(dot_params, wind_params, cloud_params, aux_params):        \n",
    "    Mdot_grow, Mdot_loss = dot_params\n",
    "    P, v, rho = wind_params\n",
    "    M_cloud, v_cloud, N_cloud, rho_cloud = cloud_params     \n",
    "    dr, dvol, gamma, retire_mass, retire_flag = aux_params\n",
    "\n",
    "    dt = dr/v_cloud\n",
    "    Mdot_grow = np.where(M_cloud < retire_mass, 0, Mdot_grow)\n",
    "    Mdot_loss = np.where(M_cloud < retire_mass, M_cloud/dt, Mdot_loss)\n",
    "\n",
    "    n_cloud = N_cloud/dvol\n",
    "    rhodot = (Mdot_grow + Mdot_loss) * n_cloud\n",
    "    pdot = (v * Mdot_grow + v_cloud * Mdot_loss) * n_cloud\n",
    "    vB_2 = 0.5 * v**2 + gamma / (gamma - 1) * P / rho   # leave out escape velocity\n",
    "    vB_cloud_2 = 0.5 * v_cloud**2 + gamma / (gamma - 1) * P / rho_cloud\n",
    "    epsilondot = (vB_2 * Mdot_grow + vB_cloud_2 * Mdot_loss) * n_cloud                \n",
    "    return rhodot, pdot, epsilondot    "
   ]
  },
  {
   "cell_type": "code",
   "execution_count": 50,
   "metadata": {},
   "outputs": [
    {
     "data": {
      "text/plain": [
       "array([ 2.26135874e-38, -3.12207697e-39, -2.93671189e-39, -3.24984829e-39,\n",
       "       -3.05592995e-39, -2.82857859e-39, -2.60184408e-39, -2.38924797e-39,\n",
       "       -2.19460274e-39, -2.01808725e-39, -1.85855625e-39, -1.71445382e-39,\n",
       "       -1.58417804e-39, -1.46622371e-39, -1.35923035e-39, -1.26199048e-39,\n",
       "       -1.17344109e-39, -1.09264957e-39, -1.01879811e-39, -9.51168909e-40,\n",
       "       -8.89130878e-40, -8.32127948e-40, -7.79668937e-40, -7.31318933e-40,\n",
       "       -6.86691909e-40, -6.45444393e-40, -6.07270045e-40, -5.71895040e-40,\n",
       "       -5.39074094e-40, -5.08587029e-40, -4.80235821e-40, -4.53842031e-40,\n",
       "       -4.29244586e-40, -4.06297835e-40, -3.84869858e-40, -3.64840986e-40,\n",
       "       -3.46102497e-40, -3.28555472e-40, -3.12109789e-40, -2.96683226e-40,\n",
       "       -2.82200671e-40, -2.68593432e-40, -2.55798606e-40, -2.43758521e-40,\n",
       "       -2.32420242e-40, -2.21735134e-40, -2.11658458e-40, -2.02149021e-40,\n",
       "       -1.93168860e-40, -1.84682949e-40, -1.76658941e-40, -1.69066941e-40,\n",
       "       -1.61879288e-40, -1.55070372e-40, -1.48616457e-40, -1.42495531e-40,\n",
       "       -1.36687156e-40, -1.31172348e-40, -1.25933455e-40, -1.20954053e-40,\n",
       "       -1.16218849e-40, -1.11713593e-40, -1.07424996e-40, -1.03340658e-40,\n",
       "       -9.94489999e-41, -9.57392023e-41, -9.22011487e-41, -8.88253727e-41,\n",
       "       -8.56030129e-41, -8.25257681e-41, -7.95858557e-41, -7.67759767e-41,\n",
       "       -7.40892816e-41, -7.15193383e-41, -6.90601028e-41, -6.67058945e-41,\n",
       "       -6.44513696e-41, -6.22914992e-41, -6.02215476e-41, -5.82370548e-41,\n",
       "       -5.63338162e-41, -5.45078660e-41, -5.27554639e-41, -5.10730788e-41,\n",
       "       -4.94573751e-41, -4.79052032e-41, -4.64135841e-41, -4.49797018e-41,\n",
       "       -4.36008909e-41, -4.22746298e-41, -4.09985302e-41, -3.97703288e-41,\n",
       "       -3.85878818e-41, -3.74491560e-41, -3.63522224e-41, -3.52952524e-41,\n",
       "       -3.42765085e-41, -3.32943416e-41, -3.23471845e-41, -3.14335487e-41,\n",
       "       -3.05520185e-41, -2.97012471e-41, -2.88799538e-41, -2.80869196e-41,\n",
       "       -2.73209837e-41, -2.65810415e-41, -2.58660396e-41, -2.51749749e-41,\n",
       "       -2.45068905e-41, -2.38608742e-41, -2.32360559e-41, -2.26316048e-41,\n",
       "       -2.20467278e-41, -2.14806682e-41, -2.09327032e-41, -2.04021419e-41,\n",
       "       -1.98883244e-41, -1.93906196e-41, -1.89084242e-41, -1.84411607e-41,\n",
       "       -1.79882769e-41, -1.75492444e-41, -1.71235561e-41, -1.67107281e-41,\n",
       "       -1.63102962e-41, -1.59218157e-41, -1.55448607e-41, -1.51790223e-41,\n",
       "       -1.48239091e-41, -1.44791453e-41, -1.41443702e-41, -1.38192384e-41,\n",
       "       -1.35034174e-41, -1.31965885e-41, -1.28984458e-41, -1.26086957e-41,\n",
       "       -1.23270557e-41, -1.20532544e-41, -1.17870311e-41, -1.15281352e-41,\n",
       "       -1.12763255e-41, -1.10313703e-41, -1.07930461e-41, -1.05611382e-41,\n",
       "       -1.03354403e-41, -1.01157534e-41, -9.90188635e-42, -9.69365475e-42,\n",
       "       -9.49088111e-42, -9.29339455e-42, -9.10103013e-42, -8.91362889e-42,\n",
       "       -8.73103776e-42, -8.55310883e-42, -8.37969948e-42, -8.21067261e-42,\n",
       "       -8.04589596e-42, -7.88524165e-42, -7.72858642e-42, -7.57581110e-42])"
      ]
     },
     "execution_count": 50,
     "metadata": {},
     "output_type": "execute_result"
    }
   ],
   "source": [
    "res.wind_rho_dot"
   ]
  },
  {
   "cell_type": "code",
   "execution_count": 191,
   "metadata": {},
   "outputs": [],
   "source": [
    "const = Const()\n",
    "pm = Param(\"Inputs\", const).paramDict\n",
    "control = EvolveControl(const, pm)\n",
    "res = Result(const, pm)\n",
    "wind = Wind(control, const, pm, res)\n",
    "cloud = Cloud(wind, control, const, pm, res) \n",
    "(Mdot,vdot,Mdot_grow,Mdot_loss,rho_clouds)= Utils.dot_cloud_calc(wind.P, wind.v, wind.rho, cloud.M_cloud, cloud.v_cloud, pm)\n",
    "r_curr, r_next, dr, dvol = control.get_cloudr_info()"
   ]
  },
  {
   "cell_type": "code",
   "execution_count": 205,
   "metadata": {},
   "outputs": [],
   "source": [
    "dot_params = (Mdot_grow, Mdot_loss)\n",
    "wind_params = (wind.P, wind.v, wind.rho)\n",
    "cloud_params = (cloud.M_cloud, cloud.v_cloud, cloud.f, rho_clouds)\n",
    "aux_params = (dr, dvol, gamma, cloud.retire_mass, cloud.retire_flag)  "
   ]
  },
  {
   "cell_type": "code",
   "execution_count": 206,
   "metadata": {},
   "outputs": [],
   "source": [
    "Mdot_grow, Mdot_loss = dot_params\n",
    "P, v, rho = wind_params\n",
    "M_cloud, v_cloud, N_cloud, rho_cloud = cloud_params     \n",
    "dr, dvol, gamma, retire_mass, retire_flag = aux_params\n",
    "dt = dr/v_cloud\n",
    "Mdot_grow = np.where(M_cloud < retire_mass, 0, Mdot_grow)\n",
    "Mdot_loss = np.where(M_cloud < retire_mass, M_cloud/dt, Mdot_loss)\n",
    "n_cloud = N_cloud/dvol\n",
    "rhodot = (Mdot_grow + Mdot_loss) * n_cloud\n",
    "pdot = (v * Mdot_grow + v_cloud * Mdot_loss) * n_cloud\n",
    "vB_2 = 0.5 * v**2 + gamma / (gamma - 1) * P / rho   # leave out escape velocity\n",
    "vB_cloud_2 = 0.5 * v_cloud**2 + gamma / (gamma - 1) * P / rho_cloud\n",
    "epsilondot = (vB_2 * Mdot_grow + vB_cloud_2 * Mdot_loss) * n_cloud    "
   ]
  },
  {
   "cell_type": "code",
   "execution_count": 207,
   "metadata": {},
   "outputs": [
    {
     "data": {
      "text/plain": [
       "(-2.2613587382326457e-38, 2.0692637920846305e-29, 4.136956301974086e-21)"
      ]
     },
     "execution_count": 207,
     "metadata": {},
     "output_type": "execute_result"
    }
   ],
   "source": [
    "sum(rhodot*cloud.integrateDelta), sum(pdot*cloud.integrateDelta), sum(epsilondot*cloud.integrateDelta)"
   ]
  },
  {
   "cell_type": "code",
   "execution_count": 208,
   "metadata": {},
   "outputs": [],
   "source": [
    "n_cloud = cloud.f / dvol        \n",
    "rhodot_grow = Mdot_grow * n_cloud\n",
    "rhodot_loss = Mdot_loss * n_cloud\n",
    "rhodot = rhodot_grow + rhodot_loss\n",
    "pdot = (v * Mdot_grow + cloud.v_cloud * Mdot_loss) * n_cloud\n",
    "vB_2 = 0.5 * v**2 + cloud.gamma / (cloud.gamma - 1) * P / rho   # leave out escape velocity\n",
    "vB_cloud_2 = 0.5 * cloud.v_cloud**2 + cloud.gamma / (cloud.gamma - 1) * P / rho_cloud\n",
    "epsilondot = (vB_2 * Mdot_grow + vB_cloud_2 * Mdot_loss) * n_cloud"
   ]
  },
  {
   "cell_type": "code",
   "execution_count": 209,
   "metadata": {},
   "outputs": [
    {
     "data": {
      "text/plain": [
       "(-2.2613587382326457e-38, 2.0692637920846305e-29, 4.136956301974086e-21)"
      ]
     },
     "execution_count": 209,
     "metadata": {},
     "output_type": "execute_result"
    }
   ],
   "source": [
    "sum(rhodot*cloud.integrateDelta), sum(pdot*cloud.integrateDelta), sum(epsilondot*cloud.integrateDelta)"
   ]
  },
  {
   "cell_type": "code",
   "execution_count": 138,
   "metadata": {},
   "outputs": [
    {
     "data": {
      "text/plain": [
       "array([0., 0., 0., ..., 0., 0., 0.])"
      ]
     },
     "execution_count": 138,
     "metadata": {},
     "output_type": "execute_result"
    }
   ],
   "source": [
    "cloud.f"
   ]
  },
  {
   "cell_type": "code",
   "execution_count": 139,
   "metadata": {},
   "outputs": [
    {
     "data": {
      "text/plain": [
       "array([1.18579704e-14, 1.51653309e-14, 1.93400722e-14, ...,\n",
       "       0.00000000e+00, 0.00000000e+00, 0.00000000e+00])"
      ]
     },
     "execution_count": 139,
     "metadata": {},
     "output_type": "execute_result"
    }
   ],
   "source": [
    "cloud.f_last"
   ]
  },
  {
   "cell_type": "code",
   "execution_count": 167,
   "metadata": {},
   "outputs": [
    {
     "data": {
      "text/plain": [
       "2e+33"
      ]
     },
     "execution_count": 167,
     "metadata": {},
     "output_type": "execute_result"
    }
   ],
   "source": [
    "retire_mass"
   ]
  },
  {
   "cell_type": "code",
   "execution_count": 168,
   "metadata": {},
   "outputs": [
    {
     "data": {
      "text/plain": [
       "2e+33"
      ]
     },
     "execution_count": 168,
     "metadata": {},
     "output_type": "execute_result"
    }
   ],
   "source": [
    "const.Msun"
   ]
  },
  {
   "cell_type": "code",
   "execution_count": 506,
   "metadata": {},
   "outputs": [],
   "source": [
    "a=np.array([])"
   ]
  },
  {
   "cell_type": "code",
   "execution_count": 507,
   "metadata": {},
   "outputs": [
    {
     "data": {
      "text/plain": [
       "array([], dtype=float64)"
      ]
     },
     "execution_count": 507,
     "metadata": {},
     "output_type": "execute_result"
    }
   ],
   "source": [
    "a"
   ]
  },
  {
   "cell_type": "code",
   "execution_count": 508,
   "metadata": {},
   "outputs": [],
   "source": [
    "b=np.array([1,2,3])"
   ]
  },
  {
   "cell_type": "code",
   "execution_count": 509,
   "metadata": {},
   "outputs": [],
   "source": [
    "a=b"
   ]
  },
  {
   "cell_type": "code",
   "execution_count": 510,
   "metadata": {},
   "outputs": [
    {
     "data": {
      "text/plain": [
       "array([1, 2, 3])"
      ]
     },
     "execution_count": 510,
     "metadata": {},
     "output_type": "execute_result"
    }
   ],
   "source": [
    "a"
   ]
  },
  {
   "cell_type": "code",
   "execution_count": 211,
   "metadata": {},
   "outputs": [
    {
     "data": {
      "text/plain": [
       "array([[4.33925811e+35, 8.64293397e+07, 1.04705040e-02],\n",
       "       [6.14739940e+35, 8.48298716e+07, 1.31396954e-02],\n",
       "       [1.50078410e+35, 8.99472194e+07, 1.34003902e-02],\n",
       "       ...,\n",
       "       [1.92421535e+35, 8.91042859e+07, 1.39776165e-02],\n",
       "       [6.53899912e+35, 8.45863292e+07, 1.29394366e-02],\n",
       "       [4.57682161e+36, 7.58270373e+07, 1.19140475e-02]])"
      ]
     },
     "execution_count": 211,
     "metadata": {},
     "output_type": "execute_result"
    }
   ],
   "source": [
    "transfer.density_for_source"
   ]
  },
  {
   "cell_type": "code",
   "execution_count": 322,
   "metadata": {},
   "outputs": [
    {
     "data": {
      "text/plain": [
       "array([[1.62322028e+33, 5.37906684e+06, 1.00000000e+00],\n",
       "       [8.00646473e+32, 1.61526437e+07, 1.00000000e+00]])"
      ]
     },
     "execution_count": 322,
     "metadata": {},
     "output_type": "execute_result"
    }
   ],
   "source": [
    "transfer.cloudMC_retire"
   ]
  },
  {
   "cell_type": "code",
   "execution_count": 327,
   "metadata": {},
   "outputs": [
    {
     "data": {
      "text/plain": [
       "array([], dtype=float64)"
      ]
     },
     "execution_count": 327,
     "metadata": {},
     "output_type": "execute_result"
    }
   ],
   "source": [
    "cloud.retiredCloud"
   ]
  },
  {
   "cell_type": "code",
   "execution_count": 328,
   "metadata": {},
   "outputs": [
    {
     "data": {
      "text/plain": [
       "array([[1.88338681e+33, 1.41383968e+07, 1.00000000e+00]])"
      ]
     },
     "execution_count": 328,
     "metadata": {},
     "output_type": "execute_result"
    }
   ],
   "source": [
    "transfer.cloudMC_retire"
   ]
  },
  {
   "cell_type": "code",
   "execution_count": null,
   "metadata": {},
   "outputs": [],
   "source": [
    "    @staticmethod\n",
    "    def getCloudSource(dot_params, wind_params, cloud_params, aux_params):        \n",
    "        Mdot_grow, Mdot_loss = dot_params\n",
    "        P, v, rho = wind_params\n",
    "        M_cloud, v_cloud, N_cloud, rho_cloud = cloud_params     \n",
    "        dr, dvol, gamma, retire_mass, retire_flag = aux_params\n",
    "        \n",
    "        dt = dr/v_cloud\n",
    "        Mdot_grow = np.where(M_cloud < retire_mass, 0, Mdot_grow)\n",
    "        Mdot_loss = np.where(M_cloud < retire_mass, -M_cloud/dt, Mdot_loss)\n",
    "        \n",
    "        n_cloud = N_cloud/dvol\n",
    "        rhodot = (Mdot_grow + Mdot_loss) * n_cloud\n",
    "        pdot = (v * Mdot_grow + v_cloud * Mdot_loss) * n_cloud\n",
    "        vB_2 = 0.5 * v**2 + gamma / (gamma - 1) * P / rho   # leave out escape velocity\n",
    "        vB_cloud_2 = 0.5 * v_cloud**2 + gamma / (gamma - 1) * P / rho_cloud\n",
    "        epsilondot = (vB_2 * Mdot_grow + vB_cloud_2 * Mdot_loss) * n_cloud      \n",
    "        return rhodot, pdot, epsilondot    \n",
    "    \n",
    "    @staticmethod\n",
    "    def retireCloud(M_clouds, v_clouds, N_clouds, retire_mass):\n",
    "        cloud_stack = np.column_stack((M_clouds, v_clouds, N_clouds))\n",
    "        cloud_live = np.array([list(item) for item in cloud_stack if item[0] >= retire_mass])\n",
    "        cloud_retire = np.array([list(item) for item in cloud_stack if item[0] < retire_mass])\n",
    "        return cloud_live, cloud_retire\n"
   ]
  }
 ],
 "metadata": {
  "kernelspec": {
   "display_name": "Python 3",
   "language": "python",
   "name": "python3"
  },
  "language_info": {
   "codemirror_mode": {
    "name": "ipython",
    "version": 3
   },
   "file_extension": ".py",
   "mimetype": "text/x-python",
   "name": "python",
   "nbconvert_exporter": "python",
   "pygments_lexer": "ipython3",
   "version": "3.7.4"
  },
  "toc-showcode": true,
  "toc-showmarkdowntxt": true
 },
 "nbformat": 4,
 "nbformat_minor": 4
}
