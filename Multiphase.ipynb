{
 "cells": [
  {
   "cell_type": "code",
   "execution_count": 221,
   "metadata": {},
   "outputs": [],
   "source": [
    "%run ./const\n",
    "%run ./param\n",
    "import numpy as np\n",
    "import glob\n",
    "from scipy import integrate, interpolate\n",
    "import matplotlib\n",
    "matplotlib.rcParams['xtick.direction'] = 'in'\n",
    "matplotlib.rcParams['ytick.direction'] = 'in'\n",
    "matplotlib.rcParams['xtick.top'] = True\n",
    "matplotlib.rcParams['ytick.right'] = True\n",
    "matplotlib.rcParams['xtick.minor.visible'] = True\n",
    "matplotlib.rcParams['ytick.minor.visible'] = True\n",
    "matplotlib.rcParams['lines.dash_capstyle'] = \"round\"\n",
    "matplotlib.rcParams['lines.solid_capstyle'] = \"round\"\n",
    "matplotlib.rcParams['legend.handletextpad'] = 0.4\n",
    "\n",
    "import matplotlib.pyplot as plt\n",
    "plt.rc('text', usetex=True)\n",
    "plt.rc('text.latex', preamble=r'\\usepackage{cmbright}  \\usepackage[T1]{fontenc}')\n",
    "\n",
    "matplotlib.rcParams['axes.linewidth'] = 0.6\n",
    "matplotlib.rcParams['ytick.major.width'] = 0.6\n",
    "matplotlib.rcParams['xtick.major.width'] = 0.6\n",
    "matplotlib.rcParams['ytick.minor.width'] = 0.45\n",
    "matplotlib.rcParams['xtick.minor.width'] = 0.45\n",
    "matplotlib.rcParams['ytick.major.size'] = 2.75\n",
    "matplotlib.rcParams['xtick.major.size'] = 2.75\n",
    "matplotlib.rcParams['ytick.minor.size'] = 1.75\n",
    "matplotlib.rcParams['xtick.minor.size'] = 1.75\n",
    "matplotlib.rcParams['legend.handlelength'] = 1.5\n",
    "\n",
    "import matplotlib.colors as colors\n",
    "from matplotlib import cm\n",
    "from matplotlib.colors import ListedColormap\n",
    "import palettable\n",
    "from scipy.integrate import ode\n",
    "from scipy.integrate import solve_ivp\n",
    "from scipy.interpolate import interp1d\n",
    "from scipy import optimize\n",
    "import cmasher as cmr\n",
    "import matplotlib.font_manager\n",
    "from numpy import random\n",
    "from scipy.stats import lognorm\n",
    "from scipy.stats import norm\n",
    "import scipy.optimize as opt\n",
    "\n",
    "from scipy.sparse import diags\n",
    "from scipy.sparse.linalg import spsolve\n",
    "from ipynb.fs.full.utils import Matrix3D\n",
    "import time\n",
    "\n",
    "###########################\n",
    "gamma   = 5/3.\n",
    "kb      = 1.3806488e-16\n",
    "mp      = 1.67373522381e-24\n",
    "km      = 1e5\n",
    "s       = 1\n",
    "yr      = 3.1536e7\n",
    "Myr     = 3.1536e13\n",
    "Gyr     = 3.1536e16\n",
    "pc      = 3.086e18\n",
    "kpc     = 1.0e3 * pc\n",
    "Mpc     = 1.0e6 * pc\n",
    "H0      = 67.74*km/s/Mpc\n",
    "Om      = 0.3075\n",
    "OL      = 1 - Om\n",
    "G       = 6.673e-8\n",
    "Msun    = 2.e33\n",
    "fb      = 0.158\n",
    "keV     = 1.60218e-9\n",
    "###########################\n",
    "\n",
    "\n",
    "###########################\n",
    "mu          = 0.62\n",
    "metallicity = 10**-0.5\n",
    "muH         = 1/0.75\n",
    "###########################\n",
    "\n",
    "const = Const()\n",
    "pm = Param(\"Inputs\", const).paramDict"
   ]
  },
  {
   "cell_type": "code",
   "execution_count": 222,
   "metadata": {},
   "outputs": [],
   "source": [
    "class Cooling:\n",
    "    def __init__(self, fname):\n",
    "        file = glob.glob(fname) ## CHANGE FOR WHERE YOU WANT TO KEEP IT\n",
    "        if len(file) > 0:\n",
    "            data = np.load(file[0])\n",
    "            Lambda_tab = data['Lambda_tab']\n",
    "            redshifts  = data['redshifts']\n",
    "            Zs         = data['Zs']\n",
    "            log_Tbins  = data['log_Tbins']\n",
    "            log_nHbins = data['log_nHbins']    \n",
    "            self.Lambda     = interpolate.RegularGridInterpolator((log_nHbins,log_Tbins,Zs,redshifts), Lambda_tab, bounds_error=False, fill_value=1e-30)\n",
    "        else:\n",
    "            print(\"Cooling curve file not found\")\n",
    "            \n",
    "    def tcool_P(self, T,P, metallicity, mu, muH):\n",
    "        T = np.where(T>10**8.98, 10**8.98, T)\n",
    "        T = np.where(T<10**2, 10**2, T)\n",
    "        nH_actual = P/T*(mu/muH)\n",
    "        nH = np.where(nH_actual>1, 1, nH_actual)\n",
    "        nH = np.where(nH<10**-8, 10**-8, nH)\n",
    "        return 1.5 * (muH/mu)**2 * kb * T / ( nH_actual * self.Lambda((np.log10(nH),np.log10(T), metallicity,0)))"
   ]
  },
  {
   "cell_type": "code",
   "execution_count": 223,
   "metadata": {},
   "outputs": [
    {
     "data": {
      "text/plain": [
       "array(9.08173569e-24)"
      ]
     },
     "execution_count": 223,
     "metadata": {},
     "output_type": "execute_result"
    }
   ],
   "source": [
    "coolCurve = Cooling('Lambda_tab_redshifts.npz')\n",
    "coolCurve.Lambda((-1, np.log10(1e6), 0.02, 0))"
   ]
  },
  {
   "cell_type": "code",
   "execution_count": 224,
   "metadata": {},
   "outputs": [],
   "source": [
    "class Wind:      \n",
    "    \n",
    "    def __init__(self, dr, const, pm):\n",
    "        self.dr = dr        \n",
    "        self.r0 = pm['SONIC_POINT']   # sonic point\n",
    "        self.gamma = 5/3     # adiabatic index\n",
    "        epsilon = 1e-5   \n",
    "        Mach0 = 1       \n",
    "        Mach = Mach0 * (1+epsilon)        \n",
    "        beta = pm['BETA']      # mass loading \n",
    "        alpha = pm['ALPHA']     # energy loading\n",
    "        SFR = pm['SFR']       # star formation rate\n",
    "        Mdot = pm['MDOT']        # mass injection rate\n",
    "        Edot = pm['EDOT']    # energy injection rate\n",
    "        v0 = (Mdot / Edot * (1/2 + 1/((gamma - 1) * Mach**2)))**(-1/2)  # velocity at sonic point\n",
    "        rho0 = Mdot / (4 * np.pi * self.r0**2 * v0)   # density at sonic point\n",
    "        P0 = rho0 * (gamma - 1)/gamma * (Edot/Mdot - v0**2/2)   # pressure at sonic point\n",
    "        Vol = 4/3 * np.pi * self.r0**3         \n",
    "        self.Mdot_per_Vol = Mdot / Vol    \n",
    "        self.Edot_per_Vol = Edot / Vol\n",
    "        self.v_c = 0    \n",
    "        self.P = P0\n",
    "        self.r = self.r0\n",
    "        self.v = v0\n",
    "        self.rho = rho0\n",
    "        self.T = self.P / kb * (mu * mp / self.rho)\n",
    "\n",
    "        \n",
    "        \n",
    "    def __getDerivatives(self, r, v, rho, P):\n",
    "        gamma = self.gamma\n",
    "        r0 = self.r0\n",
    "        Mdot_per_Vol = self.Mdot_per_Vol\n",
    "        Edot_per_Vol = self.Edot_per_Vol\n",
    "        \n",
    "        c_s_sqr = gamma * P / rho\n",
    "        v_c_sqr = 0\n",
    "\n",
    "        Srho = np.where(r<r0, Mdot_per_Vol,0)\n",
    "        Sv = np.where(r<r0, -v * Mdot_per_Vol / rho, 0) #no momentum flux\n",
    "        Se = np.where(r<r0, (Edot_per_Vol + v**2 * Mdot_per_Vol - (v**2/2 + c_s_sqr / (gamma-1)) * Mdot_per_Vol)/rho, 0) # no cooling and v_esc\n",
    "\n",
    "        dv_dr = (v/r * (2*c_s_sqr - v_c_sqr) - c_s_sqr*Srho/rho + v*Sv - (gamma-1)*Se) / (v**2-c_s_sqr)\n",
    "        drho_dr = (rho/r*(v_c_sqr-2*v**2) + v*Srho - rho*Sv + (gamma-1)*rho/v*Se) / (v**2-c_s_sqr)\n",
    "        dP_dr = (gamma*P/r*(v_c_sqr-2*v**2) + c_s_sqr*v*Srho - gamma*P*Sv + (gamma-1)*rho*v*Se) / (v**2-c_s_sqr)\n",
    "\n",
    "        return (dv_dr, drho_dr, dP_dr)\n",
    "    \n",
    "\n",
    "    def step(self):\n",
    "\n",
    "        def evolve(r, z):\n",
    "            v,rho,P = z\n",
    "            (dv_dr, drho_dr, dP_dr) = self.__getDerivatives(r, v, rho, P)    \n",
    "            return [dv_dr, drho_dr, dP_dr]        \n",
    "\n",
    "        sol_sup = solve_ivp(evolve, [self.r, self.r+dr], \n",
    "                            [self.v,self.rho,self.P], dense_output=True, \n",
    "                            rtol=1e-12, atol=[1, 1e-7*mp, 1e-2*kb])\n",
    "        self.r = sol_sup.t[-1]\n",
    "        self.v = sol_sup.y[0][-1]\n",
    "        self.rho = sol_sup.y[1][-1]\n",
    "        self.P = sol_sup.y[2][-1]\n",
    "        self.T = self.P / kb * (mu * mp / self.rho)\n"
   ]
  },
  {
   "cell_type": "code",
   "execution_count": 225,
   "metadata": {},
   "outputs": [],
   "source": [
    "class Cloud:\n",
    "    ncells_v=pm['V_CELLS']\n",
    "    ncells_M=pm['M_CELLS']\n",
    "    ncells_r=pm['R_CELLS']\n",
    "    v_max = pm['V_MAX']\n",
    "    v_min = pm['V_MIN']\n",
    "    v_mu = pm['V_MU']\n",
    "    v_sigma = pm['V_SIGMA']\n",
    "    M_max = pm['M_MAX']\n",
    "    M_min = pm['M_MIN']\n",
    "    M_mu = pm['M_MU']\n",
    "    M_sigma = pm['M_SIGMA']\n",
    "    M_total = pm['CLOUD_MASS']\n",
    "    \n",
    "    T_cloud = 1e4\n",
    "    \n",
    "    f_turb0 = 0.1\n",
    "    Mdot_chi_power = 0.5\n",
    "    \n",
    "    t_cool_layer = 0.1  * Myr\n",
    "\n",
    "    mu          = 0.62\n",
    "    metallicity = 10**-0.5\n",
    "    muH         = 1/0.75\n",
    "    \n",
    "    cool = Cooling(pm['COOL_FILE'])\n",
    "    Lambda = cool.Lambda\n",
    "    \n",
    "    \n",
    "    def __init__(self, dr, const, pm):\n",
    " \n",
    "        # not exactly lognormal but can generate approximate lognormal\n",
    "        # with its log10(x) having specificed mean and sigma in log space\n",
    "        def pseudo_lognormal(bmin, bmax, nbs_bins, mu, sigma, unit, mtotal):\n",
    "            bin_size = (bmax-bmin)/(nbs_bins+2)\n",
    "            logbins = np.arange(bmin,bmax,bin_size)\n",
    "            bins = 10**logbins * unit\n",
    "            mu = mu + np.log10(unit)\n",
    "            z=(np.log10(bins[1:-1])-mu)/sigma\n",
    "            f = 1 / (sigma * np.sqrt(2*np.pi)) * np.exp(-0.5*z**2)\n",
    "            _delta = bins[1:]-bins[:-1]\n",
    "            delta_b = _delta[:-1]\n",
    "            delta_f = _delta[1:]\n",
    "            return f, bins[1:-1], delta_b, delta_f \n",
    "\n",
    "        def lognormal(bmin, bmax, nbs_bins, mu, sigma, unit, mtotal):\n",
    "            bin_size = (bmax-bmin)/(nbs_bins+2)\n",
    "            logbins = np.arange(bmin,bmax,bin_size)\n",
    "            bins = 10**logbins * unit\n",
    "            mu = mu + np.log10(unit)\n",
    "            z=(np.log10(bins[1:-1])-mu)/sigma\n",
    "            f = np.log10(np.e) / (bins[1:-1] * sigma * np.sqrt(2*np.pi)) * np.exp(-0.5*z**2)\n",
    "            _delta = bins[1:]-bins[:-1]\n",
    "            delta_b = _delta[:-1]\n",
    "            delta_f = _delta[1:]\n",
    "            return f, bins[1:-1], delta_b, delta_f         \n",
    "        \n",
    "        def normal(bmin, bmax, nbs_bins, mu, sigma, unit, mtotal):\n",
    "            bin_size = (bmax-bmin)/(nbs_bins+2)\n",
    "            bins = np.arange(bmin,bmax,bin_size) *unit\n",
    "            z = (bins[1:-1]/unit - mu)/(sigma)\n",
    "            f=1/(sigma * unit * np.sqrt(2 * np.pi)) * np.exp(-0.5 * z**2) \n",
    "            _delta = bins[1:]-bins[:-1]\n",
    "            delta_b = _delta[:-1]\n",
    "            delta_f = _delta[1:]\n",
    "            return f, bins[1:-1], delta_b, delta_f    \n",
    "\n",
    "        (self.mf,self.mbin,self.dm_b, self.dm_f) =lognormal(self.M_min, \n",
    "                                                            self.M_max, \n",
    "                                                            self.ncells_M, \n",
    "                                                            self.M_mu, \n",
    "                                                            self.M_sigma,\n",
    "                                                            Msun, \n",
    "                                                            self.M_total)\n",
    "        (self.vf,self.vbin,self.dv_b, self.dv_f)=normal(self.v_min, \n",
    "                                                         self.v_max, \n",
    "                                                         self.ncells_v, \n",
    "                                                         self.v_mu,\n",
    "                                                         self.v_sigma,\n",
    "                                                         km, \n",
    "                                                         self.M_total)        \n",
    "        self.indices = [(i,j) for j in range(self.ncells_v) for i in range(self.ncells_M)]        \n",
    "        # scale to match the total mass input\n",
    "        m_factor = sum(self.mf * self.mbin * (self.dm_f + self.dm_b)/2)\n",
    "        self.f=np.array([self.mf[item[0]]*self.vf[item[1]] for item in self.indices])\n",
    "        self.f *= self.M_total * Msun / m_factor    \n",
    "        self.dr = dr\n",
    "        self.integrateDelta = np.tile((self.dm_b + self.dm_f) * 0.5, self.ncells_v) * \\\n",
    "                              np.repeat((self.dv_b + self.dv_f) * 0.5, self.ncells_M)\n",
    "                        \n",
    " \n",
    "    def integrateMass(self):\n",
    "        integrand = self.f * np.tile(self.mbin, self.ncells_v)\n",
    "        return sum(integrand * self.integrateDelta)\n",
    "    \n",
    "    def integrateNFlux(self):\n",
    "        integrand = self.f * np.repeat(self.vbin, self.ncells_M) \n",
    "        return sum(integrand * self.integrateDelta)\n",
    "\n",
    "    def __dot_cloud(self, M_cloud,v_cloud, P, v, rho):\n",
    "        \n",
    "        Lambda_cool = lambda T : 5e-22 * (T/2e5)**np.where(T>2e5, -2/3., 1/2.)        \n",
    "        # cloud_radius(M_cloud,v_cloud):\n",
    "        T_cloud   = self.T_cloud\n",
    "        rho_cloud   = P * (mu*mp) / (kb*T_cloud) # cloud in pressure equilibrium\n",
    "        chi         = rho_cloud / rho\n",
    "        r_cloud     = (M_cloud / (rho_cloud))**(1/3.) \n",
    "        # layer_turbulent_velocity(M_cloud,v_cloud):\n",
    "        v_turb      = self.f_turb0*(v-v_cloud)\n",
    "        if v_turb <= 0: v_turb = 0.001  # avoid v_turb -ve for initial run\n",
    "                \n",
    "        T_wind  = P/kb * (mu*mp/rho)\n",
    "        T_mix   = np.sqrt(T_wind*T_cloud)\n",
    "\n",
    "        # layer_cooling_time\n",
    "        T = T_mix\n",
    "        T = np.where(T>10**8.98, 10**8.98, T)\n",
    "        T = np.where(T<10**2, 10**2, T)\n",
    "        nH_actual = P/kb/T*(mu/muH)\n",
    "        nH = np.where(nH_actual>1, 1, nH_actual)\n",
    "        nH = np.where(nH<10**-8, 10**-8, nH)\n",
    "        t_cool_layer = 1.5 * (muH/mu)**2 * kb * T / ( nH_actual * Lambda_cool(T_mix))        \n",
    "\n",
    "#        t_cool_layer = 1.5 * (muH/mu)**2 * kb * T / ( nH_actual * self.Lambda((np.log10(nH),np.log10(T), metallicity,0)))        \n",
    "#        t_cool_layer = self.cool.tcool_P(T_mix, P/kb, self.metallicity, self.mu, self.muH)    \n",
    "#        t_cool_layer = self.t_cool_layer    \n",
    "        \n",
    "\n",
    "\n",
    "        # cloud_ksi(M_cloud,v_cloud):        \n",
    "        ksi     = r_cloud / (v_turb * t_cool_layer)\n",
    "\n",
    "        # Mdot_cloud_grow(M_cloud,v_cloud):\n",
    "        Mdot_grow   =  3 * M_cloud * v_turb / (r_cloud * chi**self.Mdot_chi_power) * np.where( ksi < 1, ksi**0.5, ksi**0.25 )\n",
    "        Mdot_loss   = -3 * M_cloud * v_turb / (r_cloud * chi**self.Mdot_chi_power) \n",
    "        force_from_transfer = (v-v_cloud)*Mdot_grow\n",
    "        return (Mdot_grow + Mdot_loss)/v_cloud, (force_from_transfer/M_cloud)/v_cloud    \n",
    "     \n",
    "\n",
    "    def upwind(self, dot, dr):\n",
    "        M_pos_band = np.array([np.where(mdot>0, 0, mdot/self.dm_f[m_cl]) for (m_cl,_, mdot,_) in dot])*dr\n",
    "        M_neg_band = np.array([np.where(mdot>0, mdot/self.dm_b[m_cl], 0) for (m_cl,_, mdot,_) in dot])*dr\n",
    "        v_pos_band = np.array([np.where(vdot>0, 0, vdot/self.dv_f[v_cl]) for (_,v_cl,_,vdot) in dot])*dr\n",
    "        v_neg_band = np.array([np.where(vdot>0, vdot/self.dv_b[v_cl], 0) for (_,v_cl,_,vdot) in dot])*dr\n",
    "\n",
    "        # zero out location to avoid wrapping around \n",
    "        M_neg_band = np.array([np.where(i%self.ncells_M==0, 0, M_neg_band[i]) for i in range(len(M_neg_band))]) \n",
    "        M_pos_band = np.concatenate([[0],M_pos_band])\n",
    "        M_pos_band = np.array([np.where(i%self.ncells_M==0, 0, M_pos_band[i]) for i in range(len(M_pos_band))]) \n",
    "        M_pos_band = M_pos_band[1:]\n",
    "\n",
    "        diagonal = 1 + v_neg_band - v_pos_band - M_pos_band + M_neg_band    \n",
    "        v_pos_band = v_pos_band[:-self.ncells_M]\n",
    "        M_pos_band = M_pos_band[:-1]\n",
    "        M_neg_band = -M_neg_band[1:]\n",
    "        v_neg_band = -v_neg_band[self.ncells_M:]\n",
    "        return diags([v_pos_band, M_pos_band, diagonal, M_neg_band, v_neg_band],[self.ncells_M, 1, 0,-1,-self.ncells_M])     \n",
    "\n",
    "        \n",
    "    def step(self, wind):\n",
    "        P_wind = wind.P\n",
    "        v_wind = wind.v\n",
    "        rho_wind = wind.rho\n",
    "        self.dot = [(m_cl,v_cl) + self.__dot_cloud(self.mbin[m_cl],\n",
    "                                            self.vbin[v_cl], \n",
    "                                            P_wind, v_wind, rho_wind) for m_cl,v_cl in self.indices]        \n",
    "        upwind_mtrx = self.upwind(self.dot, self.dr)\n",
    "        self.f = spsolve(upwind_mtrx,self.f)\n",
    "        \n",
    "\n",
    "    \n",
    "        "
   ]
  },
  {
   "cell_type": "code",
   "execution_count": 226,
   "metadata": {},
   "outputs": [
    {
     "name": "stdout",
     "output_type": "stream",
     "text": [
      "0\n",
      "10\n",
      "20\n",
      "30\n"
     ]
    },
    {
     "data": {
      "text/plain": [
       "(0, 1000)"
      ]
     },
     "execution_count": 226,
     "metadata": {},
     "output_type": "execute_result"
    },
    {
     "data": {
      "image/png": "[encoded data removed]",
      "text/plain": [
       "<Figure size 432x432 with 1 Axes>"
      ]
     },
     "metadata": {
      "needs_background": "light"
     },
     "output_type": "display_data"
    }
   ],
   "source": [
    "const = Const()\n",
    "pm = Param(\"Inputs\", const).paramDict\n",
    "\n",
    "dr = 25 * pc\n",
    "steps= 32\n",
    "\n",
    "wind = Wind(dr, const, pm)\n",
    "cloud = Cloud(dr, const, pm)\n",
    "\n",
    "\n",
    "cloud_f = []\n",
    "cloud_f.append(cloud.f)\n",
    "\n",
    "r = []\n",
    "wind_v = []\n",
    "wind_rho = []\n",
    "wind_P = []\n",
    "r.append(wind.r)\n",
    "wind_v.append(wind.v)\n",
    "wind_rho.append(wind.rho)\n",
    "wind_P.append(wind.P)\n",
    "\n",
    "nflux = []\n",
    "mass = []\n",
    "\n",
    "for i_time in range(steps):\n",
    "    cloud.step(wind)\n",
    "    cloud_f.append(cloud.f)\n",
    "    nflux.append(cloud.integrateNFlux())\n",
    "    mass.append(cloud.integrateMass())\n",
    "    wind.step()\n",
    "    r.append(wind.r)\n",
    "    wind_v.append(wind.v)\n",
    "    wind_rho.append(wind.rho)\n",
    "    wind_P.append(wind.P)\n",
    "    \n",
    "    if i_time % 10 == 0:\n",
    "        print(i_time)\n",
    "\n",
    "        \n",
    "plt.figure(figsize=(6,6))\n",
    "plt.pcolormesh(np.log10(cloud.mbin/Msun),cloud.vbin/km,np.reshape(cloud.f,(cloud.ncells_v,cloud.ncells_M)), cmap=palettable.scientific.sequential.Oslo_20_r.mpl_colormap)\n",
    "plt.xlabel(r'$\\log M_{\\rm cloud}\\, [M_\\odot]$')\n",
    "plt.ylabel(r'$v_{\\rm cloud}\\, [{\\rm km/s}]$')\n",
    "plt.xlim((cloud.M_min,cloud.M_max))\n",
    "plt.ylim((cloud.v_min,cloud.v_max))"
   ]
  },
  {
   "cell_type": "code",
   "execution_count": 227,
   "metadata": {},
   "outputs": [
    {
     "data": {
      "text/plain": [
       "[3.5099403332417067e+23,\n",
       " 2.6572494763365956e+23,\n",
       " 2.167758671877063e+23,\n",
       " 1.8460821223059487e+23,\n",
       " 1.616300449699381e+23,\n",
       " 1.4428364577243855e+23,\n",
       " 1.3066573292605096e+23,\n",
       " 1.1965771650328408e+23,\n",
       " 1.1060812270904532e+23,\n",
       " 1.0303537478261993e+23,\n",
       " 9.65948394968811e+22,\n",
       " 9.104299291687616e+22,\n",
       " 8.620250201339114e+22,\n",
       " 8.194094526206675e+22,\n",
       " 7.815730505139894e+22,\n",
       " 7.477309288916003e+22,\n",
       " 7.172634400355657e+22,\n",
       " 6.896744858994041e+22,\n",
       " 6.645619273714872e+22,\n",
       " 6.415961630262583e+22,\n",
       " 6.2050434861122265e+22,\n",
       " 6.010585888068258e+22,\n",
       " 5.830669761775539e+22,\n",
       " 5.663667036618557e+22,\n",
       " 5.508187091297536e+22,\n",
       " 5.3630346691446424e+22,\n",
       " 5.227176484080808e+22,\n",
       " 5.0997144846043045e+22,\n",
       " 4.9798642707782254e+22,\n",
       " 4.866937537106887e+22,\n",
       " 4.760327688304138e+22,\n",
       " 4.659497976078744e+22]"
      ]
     },
     "execution_count": 227,
     "metadata": {},
     "output_type": "execute_result"
    }
   ],
   "source": [
    "nflux"
   ]
  },
  {
   "cell_type": "code",
   "execution_count": 220,
   "metadata": {},
   "outputs": [
    {
     "data": {
      "text/plain": [
       "[1.007400747907549e+53,\n",
       " 6.456483780779126e+52,\n",
       " 4.927700814679987e+52,\n",
       " 4.095148262912219e+52,\n",
       " 3.5671579006023774e+52,\n",
       " 3.19890986886223e+52,\n",
       " 2.925246574971901e+52,\n",
       " 2.71252790913764e+52,\n",
       " 2.5421535761813164e+52,\n",
       " 2.4020814275756634e+52,\n",
       " 2.2843919414093903e+52,\n",
       " 2.1837633179376832e+52,\n",
       " 2.0964764124522995e+52,\n",
       " 2.0198468886067778e+52,\n",
       " 1.9518843057189263e+52,\n",
       " 1.891078574658145e+52,\n",
       " 1.836261293610317e+52,\n",
       " 1.7865128818599803e+52,\n",
       " 1.7410986966887248e+52,\n",
       " 1.69942404534331e+52,\n",
       " 1.6610018411363275e+52,\n",
       " 1.6254289185055125e+52,\n",
       " 1.5923684013136987e+52,\n",
       " 1.5615363816949362e+52,\n",
       " 1.5326917200270807e+52,\n",
       " 1.5056281391894822e+52,\n",
       " 1.4801680286524238e+52,\n",
       " 1.4561575389477485e+52,\n",
       " 1.433462661267118e+52,\n",
       " 1.4119660671794346e+52,\n",
       " 1.3915645406392392e+52,\n",
       " 1.3721668757319452e+52]"
      ]
     },
     "execution_count": 220,
     "metadata": {},
     "output_type": "execute_result"
    }
   ],
   "source": [
    "mflux"
   ]
  },
  {
   "cell_type": "code",
   "execution_count": null,
   "metadata": {},
   "outputs": [],
   "source": []
  },
  {
   "cell_type": "code",
   "execution_count": 99,
   "metadata": {},
   "outputs": [
    {
     "data": {
      "text/plain": [
       "(4.330427517584225e+19, 4.4722867669046185e+22)"
      ]
     },
     "execution_count": 99,
     "metadata": {},
     "output_type": "execute_result"
    }
   ],
   "source": [
    "ncells_v = 150\n",
    "ncells_M = 150\n",
    "dv_b = cloud.dv_b\n",
    "dv_f = cloud.dv_f\n",
    "dm_b = cloud.dm_b\n",
    "dm_f = cloud.dm_f\n",
    "mbin = cloud.mbin\n",
    "x=cloud_f[0]\n",
    "x_mtrx = x.reshape(150, 150)\n",
    "v_delta = np.transpose(np.array([0.5*(dv_b+dv_f),]*ncells_M))\n",
    "intv = (x_mtrx * mbin * v_delta).sum(axis=0)\n",
    "intm_intv = sum(intv * 0.5 *(dm_b + dm_f))\n",
    "intm_intv       \n",
    "\n",
    "f=cloud_f[0]\n",
    "#res, integrand = cloud.integrateMass(f)\n",
    "#f[0], integrand[0], (np.tile(cloud.mbin, cloud.ncells_v) * f)[0], res / Msun\n",
    "x_mtrx.shape\n",
    "mbin.shape\n",
    "\n",
    "sum(x * np.tile(mbin, 150) * np.tile(dm_b,150) * np.repeat(dv_b,150))/Msun, intm_intv\n",
    "cloud.integrateMass()/Msun, cloud.integrateNFlux()"
   ]
  },
  {
   "cell_type": "code",
   "execution_count": 195,
   "metadata": {},
   "outputs": [
    {
     "data": {
      "text/plain": [
       "(0, 1000)"
      ]
     },
     "execution_count": 195,
     "metadata": {},
     "output_type": "execute_result"
    },
    {
     "data": {
      "image/png": "[encoded data removed]",
      "text/plain": [
       "<Figure size 432x432 with 1 Axes>"
      ]
     },
     "metadata": {
      "needs_background": "light"
     },
     "output_type": "display_data"
    }
   ],
   "source": [
    "f = cloud_f[0]\n",
    "plt.figure(figsize=(6,6))\n",
    "plt.pcolormesh(np.log10(cloud.mbin/Msun),cloud.vbin/km,np.reshape(f,(cloud.ncells_v,cloud.ncells_M)), cmap=palettable.scientific.sequential.Oslo_20_r.mpl_colormap)\n",
    "plt.xlabel(r'$\\log M_{\\rm cloud}\\, [M_\\odot]$')\n",
    "plt.ylabel(r'$v_{\\rm cloud}\\, [{\\rm km/s}]$')\n",
    "plt.xlim((cloud.M_min,cloud.M_max))\n",
    "plt.ylim((cloud.v_min,cloud.v_max))"
   ]
  },
  {
   "cell_type": "code",
   "execution_count": 9,
   "metadata": {},
   "outputs": [
    {
     "data": {
      "text/plain": [
       "[<matplotlib.lines.Line2D at 0x136dee650>]"
      ]
     },
     "execution_count": 9,
     "metadata": {},
     "output_type": "execute_result"
    },
    {
     "data": {
      "image/png": "[encoded data removed]",
      "text/plain": [
       "<Figure size 432x288 with 1 Axes>"
      ]
     },
     "metadata": {
      "needs_background": "light"
     },
     "output_type": "display_data"
    }
   ],
   "source": [
    "plt.loglog(r, wind_v)\n",
    "plt.loglog(r, np.sqrt(gamma * np.array(wind_P) / np.array(wind_rho)))"
   ]
  },
  {
   "cell_type": "code",
   "execution_count": 10,
   "metadata": {},
   "outputs": [
    {
     "data": {
      "text/plain": [
       "(0, 1200)"
      ]
     },
     "execution_count": 10,
     "metadata": {},
     "output_type": "execute_result"
    },
    {
     "data": {
      "image/png": "[encoded data removed]",
      "text/plain": [
       "<Figure size 432x432 with 1 Axes>"
      ]
     },
     "metadata": {
      "needs_background": "light"
     },
     "output_type": "display_data"
    }
   ],
   "source": [
    "\n",
    "fn = cloud_f[0]\n",
    "plt.figure(figsize=(6,6))\n",
    "plt.pcolormesh(np.log10(cloud.mbin/Msun),cloud.vbin/km,np.reshape(fn,(cloud.ncells_v,cloud.ncells_M)), cmap=palettable.scientific.sequential.Oslo_20_r.mpl_colormap)\n",
    "plt.xlabel(r'$\\log M_{\\rm cloud}\\, [M_\\odot]$')\n",
    "plt.ylabel(r'$v_{\\rm cloud}\\, [{\\rm km/s}]$')\n",
    "plt.xlim((cloud.M_min,cloud.M_max))\n",
    "plt.ylim((cloud.v_min,cloud.v_max))"
   ]
  },
  {
   "cell_type": "code",
   "execution_count": 11,
   "metadata": {},
   "outputs": [
    {
     "data": {
      "text/plain": [
       "{'#': 'multiphase',\n",
       " 'V_CELLS': 150,\n",
       " 'M_CELLS': 150,\n",
       " 'R_CELLS': 150,\n",
       " 'V_MAX': 1200,\n",
       " 'V_MIN': 0,\n",
       " 'V_MU': 100.0,\n",
       " 'V_SIGMA': 30.0,\n",
       " 'M_MAX': 6,\n",
       " 'M_MIN': -2,\n",
       " 'M_MU': 3.0,\n",
       " 'M_SIGMA': 1.0,\n",
       " 'CLOUD_MASS': 1e+20,\n",
       " 'WIND_MU': 0.62,\n",
       " 'WIND_METALLICITY': '1E-0.5',\n",
       " 'SFR': 1.2683916793505834e+27,\n",
       " 'EDOT': 5.999999999999999e+42,\n",
       " 'BETA': 1.0,\n",
       " 'ALPHA': 1.0,\n",
       " 'GAMMA': 1.4,\n",
       " 'SONIC_POINT': 9.258e+20,\n",
       " 'R_START': 9.258e+20,\n",
       " 'COOL_FILE': 'Lambda_tab_redshifts.npz',\n",
       " 'MDOT': 1.2683916793505834e+27}"
      ]
     },
     "execution_count": 11,
     "metadata": {},
     "output_type": "execute_result"
    }
   ],
   "source": [
    "Param(\"Inputs\", const).paramDict"
   ]
  },
  {
   "cell_type": "code",
   "execution_count": 15,
   "metadata": {},
   "outputs": [],
   "source": [
    "a=np.array([1,2,3])"
   ]
  },
  {
   "cell_type": "code",
   "execution_count": 21,
   "metadata": {},
   "outputs": [
    {
     "data": {
      "text/plain": [
       "array([1, 2, 3, 1, 2, 3, 1, 2, 3, 1, 2, 3])"
      ]
     },
     "execution_count": 21,
     "metadata": {},
     "output_type": "execute_result"
    }
   ],
   "source": [
    "np.tile(a,4)"
   ]
  },
  {
   "cell_type": "code",
   "execution_count": null,
   "metadata": {},
   "outputs": [],
   "source": []
  }
 ],
 "metadata": {
  "kernelspec": {
   "display_name": "Python 3",
   "language": "python",
   "name": "python3"
  },
  "language_info": {
   "codemirror_mode": {
    "name": "ipython",
    "version": 3
   },
   "file_extension": ".py",
   "mimetype": "text/x-python",
   "name": "python",
   "nbconvert_exporter": "python",
   "pygments_lexer": "ipython3",
   "version": "3.7.4"
  }
 },
 "nbformat": 4,
 "nbformat_minor": 4
}
